{
 "cells": [
  {
   "cell_type": "markdown",
   "metadata": {},
   "source": [
    "# SIMPLE REGRESSION (beta)\n",
    "\n",
    "\n",
    "This linear model will use:  \n",
    "\n",
    "* $ \\mathbf {\\hat y}  =  \\hat \\beta_0 + \\hat \\beta_1 \\mathbf {\\hat x} + \\mathbf \\epsilon $ using Sum of squares **(SS)** where $\\mathbf{\\hat y, \\hat x, \\epsilon}$ are each 15x1 vectors. \n",
    "\n",
    "* $ \\mathbf {y = mx + b}$ \n",
    "\n",
    "* Matrix arithematic to calculate Least Square Error **(LSE)** \n",
    "\n",
    "**The data has been preloaded**\n",
    "\n",
    "1. Build a table with columns $\\mathbf x, \\mathbf y, \\mathbf{x - \\overline x}, \\mathbf{y - \\overline y}, \\mathbf{(x - \\overline x)^2}, \\mathbf{(y - \\overline y)^2}$, and $\\mathbf{(x - \\overline x)(y - \\overline y)} \n",
    "$; then compute SST ( = SSY), SSX, and SSXY by totaling columns in this table. \n",
    "\n",
    "2. Use $\\hat \\beta$'s to compute the fitted values = $\\mathbf{\\hat y}$, the residuals = $\\mathbf{y - \\hat y}$, and \n",
    "$\\mathbf{\\hat y - \\overline y}$.  Add these three columns to a working table. Display it for *dat1, dat2, dat3*.\n",
    "\n",
    "3. At the end display a **summary table** with three rows.  These are the columns:  DATASET = for *dat1, dat2*, *dat3*; \n",
    "$\\hat \\beta_0$, $\\hat \\beta_1$, SSE, SSR, SST (= SSY), $R^2$. \n",
    "\n",
    "4. Use scatter plots for visualization\n",
    "\n",
    "### Formulas:\n",
    "\n",
    "### Beta  hat:\n",
    "\n",
    "$\\mathbf{\\hat \\beta_1 = SSXY / SSX} \\hspace{6cm} \\mathbf{\\hat \\beta_0 = \\overline y -  \\hat \\beta_1 * \\overline x}$\n",
    "\n",
    "### Sum of squares for x and y:\n",
    "\n",
    "**SSX** = $\\mathbf{\\sum(x - \\overline x)^2 }\\hspace{5cm}$ **SSY** = $ \\mathbf{\\sum(y - \\overline y)^2}$\n",
    "\n",
    "**SSXY** = $\\mathbf{\\sum((x - \\overline x)*(y - \\overline y))}$\n",
    "\n",
    "### Sum of squares for error and regression:\n",
    "\n",
    "**SSE** = $\\mathbf{\\sum(yi - \\hat yi)^2} \\hspace{5cm}$ **SSR** = $\\mathbf{\\sum(\\hat yi - \\overline y)^2}$\n",
    "\n",
    "$R^2$ = **SSR / SST** $\\hspace{5cm}$ **Residuals** = $\\mathbf{y - \\hat y}$"
   ]
  },
  {
   "cell_type": "markdown",
   "metadata": {},
   "source": [
    "**Start with import statments and importing data in csv files into pandas dataframes**"
   ]
  },
  {
   "cell_type": "code",
   "execution_count": 1,
   "metadata": {},
   "outputs": [],
   "source": [
    "from datascience import * # used for simple tables and scatter plots by converting df() to Table()\n",
    "import numpy as np\n",
    "import pandas as pd\n",
    "import random\n",
    "import matplotlib\n",
    "import matplotlib.pyplot as plt\n",
    "%matplotlib inline\n",
    "plt.style.use('fivethirtyeight')\n",
    "np.set_printoptions(precision=4, suppress=True)"
   ]
  },
  {
   "cell_type": "code",
   "execution_count": 2,
   "metadata": {},
   "outputs": [],
   "source": [
    "data_1 = pd.read_csv('dat1.csv')\n",
    "data_2 = pd.read_csv('dat2.csv')\n",
    "data_3 = pd.read_csv('dat3.csv')"
   ]
  },
  {
   "cell_type": "code",
   "execution_count": 3,
   "metadata": {},
   "outputs": [],
   "source": [
    "def regression_plot(t,x,y):\n",
    "    '''\n",
    "    Takes in a table t and columns for x and y\n",
    "    to plot the fit line created from\n",
    "    the regression model\n",
    "    '''\n",
    "    colors =['red','orange','brown','green','blue','purple','black']\n",
    "    n = random.randint(0,6)\n",
    "    clr = colors[n]\n",
    "    t.scatter(x,y)\n",
    "    plt.plot(t.column(x),t.column('Y^'),color= clr)"
   ]
  },
  {
   "cell_type": "markdown",
   "metadata": {},
   "source": [
    "## A. Fit first model using sum of squares calculations"
   ]
  },
  {
   "cell_type": "markdown",
   "metadata": {},
   "source": [
    "**Functions for creating table and coordinating scatter plot**\n",
    "\n",
    "A dataframe (base) containg two columns: x,y is taken in. The x and y columns are separated for calculations. Each column of calculations will be appended to the frame.  First the mean of both columns are calculated. This leads to the calculations found in the formulas found in the top of this notebook.  "
   ]
  },
  {
   "cell_type": "code",
   "execution_count": 4,
   "metadata": {},
   "outputs": [],
   "source": [
    "def create_tbl(base):\n",
    "    '''\n",
    "    This funtion will take a dataframe and\n",
    "    use formulas to obtain slope of fit line\n",
    "    for the regression model. A table will be \n",
    "    created from the base once the dataframe is done \n",
    "    being modified. The table and a dictionary containing \n",
    "    calculation values will be returned\n",
    "    '''\n",
    "    x = base.iloc(1)[0][:]\n",
    "    y = base.iloc(1)[1][:]\n",
    "    xbar = x.mean()\n",
    "    ybar = y.mean()\n",
    "    base['x-X'] = (x - xbar)\n",
    "    base['y-Y'] = (y - ybar)\n",
    "    base['(x-X)sqr'] = (base['x-X'])**2\n",
    "    base['(y-Y)sqr'] = (base['y-Y'])**2\n",
    "    base['(X*Y)'] = (base['x-X']*base['y-Y'])\n",
    "    SST = sum(base['(y-Y)sqr']) # = SSY\n",
    "    SSX = sum(base['(x-X)sqr'])\n",
    "    SSXY = sum(base['(X*Y)'])\n",
    "    b1_hat = SSXY/SSX\n",
    "    b0_hat = ybar - b1_hat*xbar\n",
    "    base['Y^'] = b0_hat + b1_hat*x\n",
    "    base['(y-Y^)sqr'] = (y - base['Y^'])**2\n",
    "    base['(Y^-ybar)sqr'] = (base['Y^'] - ybar)**2\n",
    "    SSE = sum(base['(y-Y^)sqr'])\n",
    "    SSR = sum(base['(Y^-ybar)sqr'])\n",
    "    Rsqr = SSR/SST  \n",
    "    info = {'Xbar':xbar,'b0^': b0_hat,'b1^': b1_hat,'SSE': SSE,'SSR': SSR,'SST': SST,'R^2': Rsqr, 'ybar':ybar}\n",
    "    table = Table().from_df(base)\n",
    "    return table , info"
   ]
  },
  {
   "cell_type": "code",
   "execution_count": 5,
   "metadata": {},
   "outputs": [],
   "source": [
    "# create tables for data and results for each file\n",
    "data1 , info1 = create_tbl(data_1)\n",
    "data2 , info2 = create_tbl(data_2)\n",
    "data3 , info3 = create_tbl(data_3)"
   ]
  },
  {
   "cell_type": "code",
   "execution_count": 6,
   "metadata": {},
   "outputs": [
    {
     "data": {
      "text/plain": [
       "0.0"
      ]
     },
     "execution_count": 6,
     "metadata": {},
     "output_type": "execute_result"
    }
   ],
   "source": [
    "# checking sum of residual errors. They should = 0\n",
    "(sum(data1['Yi']-data1['Y^'])).round(4)"
   ]
  },
  {
   "cell_type": "code",
   "execution_count": 7,
   "metadata": {},
   "outputs": [
    {
     "data": {
      "text/html": [
       "<div>\n",
       "<style scoped>\n",
       "    .dataframe tbody tr th:only-of-type {\n",
       "        vertical-align: middle;\n",
       "    }\n",
       "\n",
       "    .dataframe tbody tr th {\n",
       "        vertical-align: top;\n",
       "    }\n",
       "\n",
       "    .dataframe thead th {\n",
       "        text-align: right;\n",
       "    }\n",
       "</style>\n",
       "<table border=\"1\" class=\"dataframe\">\n",
       "  <thead>\n",
       "    <tr style=\"text-align: right;\">\n",
       "      <th></th>\n",
       "      <th>R^2</th>\n",
       "      <th>SSE</th>\n",
       "      <th>SSR</th>\n",
       "      <th>SST</th>\n",
       "      <th>Xbar</th>\n",
       "      <th>b0^</th>\n",
       "      <th>b1^</th>\n",
       "      <th>ybar</th>\n",
       "    </tr>\n",
       "  </thead>\n",
       "  <tbody>\n",
       "    <tr>\n",
       "      <th>data1</th>\n",
       "      <td>0.800264</td>\n",
       "      <td>1.613981e+06</td>\n",
       "      <td>6.466590e+06</td>\n",
       "      <td>8.080571e+06</td>\n",
       "      <td>81.0</td>\n",
       "      <td>728.946667</td>\n",
       "      <td>50.656759</td>\n",
       "      <td>4832.144128</td>\n",
       "    </tr>\n",
       "    <tr>\n",
       "      <th>data2</th>\n",
       "      <td>0.243654</td>\n",
       "      <td>1.359282e+07</td>\n",
       "      <td>4.378870e+06</td>\n",
       "      <td>1.797169e+07</td>\n",
       "      <td>81.0</td>\n",
       "      <td>1408.337413</td>\n",
       "      <td>41.685090</td>\n",
       "      <td>4784.829729</td>\n",
       "    </tr>\n",
       "    <tr>\n",
       "      <th>data3</th>\n",
       "      <td>0.439244</td>\n",
       "      <td>1.438363e+07</td>\n",
       "      <td>1.126681e+07</td>\n",
       "      <td>2.565044e+07</td>\n",
       "      <td>81.0</td>\n",
       "      <td>-783.477594</td>\n",
       "      <td>66.865222</td>\n",
       "      <td>4632.605407</td>\n",
       "    </tr>\n",
       "  </tbody>\n",
       "</table>\n",
       "</div>"
      ],
      "text/plain": [
       "            R^2           SSE           SSR           SST  Xbar          b0^  \\\n",
       "data1  0.800264  1.613981e+06  6.466590e+06  8.080571e+06  81.0   728.946667   \n",
       "data2  0.243654  1.359282e+07  4.378870e+06  1.797169e+07  81.0  1408.337413   \n",
       "data3  0.439244  1.438363e+07  1.126681e+07  2.565044e+07  81.0  -783.477594   \n",
       "\n",
       "             b1^         ybar  \n",
       "data1  50.656759  4832.144128  \n",
       "data2  41.685090  4784.829729  \n",
       "data3  66.865222  4632.605407  "
      ]
     },
     "execution_count": 7,
     "metadata": {},
     "output_type": "execute_result"
    }
   ],
   "source": [
    "# check output of info\n",
    "info_df = pd.DataFrame([info1,info2,info3],index=['data1','data2','data3'])\n",
    "info_df"
   ]
  },
  {
   "cell_type": "code",
   "execution_count": 8,
   "metadata": {},
   "outputs": [
    {
     "data": {
      "text/html": [
       "<table border=\"1\" class=\"dataframe\">\n",
       "    <thead>\n",
       "        <tr>\n",
       "            <th>Xi</th> <th>Yi</th> <th>x-X</th> <th>y-Y</th> <th>(x-X)sqr</th> <th>(y-Y)sqr</th> <th>(X*Y)</th> <th>Y^</th> <th>(y-Y^)sqr</th> <th>(Y^-ybar)sqr</th>\n",
       "        </tr>\n",
       "    </thead>\n",
       "    <tbody>\n",
       "        <tr>\n",
       "            <td>60  </td> <td>3965.39</td> <td>-21 </td> <td>-866.752</td> <td>441     </td> <td>751259     </td> <td>18201.8 </td> <td>3768.35</td> <td>38824.7  </td> <td>1.13165e+06 </td>\n",
       "        </tr>\n",
       "        <tr>\n",
       "            <td>63  </td> <td>3760.41</td> <td>-18 </td> <td>-1071.73</td> <td>324     </td> <td>1.14861e+06</td> <td>19291.2 </td> <td>3920.32</td> <td>25572    </td> <td>831419      </td>\n",
       "        </tr>\n",
       "        <tr>\n",
       "            <td>66  </td> <td>3944.34</td> <td>-15 </td> <td>-887.803</td> <td>225     </td> <td>788194     </td> <td>13317   </td> <td>4072.29</td> <td>16371.6  </td> <td>577374      </td>\n",
       "        </tr>\n",
       "        <tr>\n",
       "            <td>69  </td> <td>4051.71</td> <td>-12 </td> <td>-780.435</td> <td>144     </td> <td>609078     </td> <td>9365.22 </td> <td>4224.26</td> <td>29774.8  </td> <td>369519      </td>\n",
       "        </tr>\n",
       "        <tr>\n",
       "            <td>72  </td> <td>4504.87</td> <td>-9  </td> <td>-327.277</td> <td>81      </td> <td>107110     </td> <td>2945.49 </td> <td>4376.23</td> <td>16546.7  </td> <td>207855      </td>\n",
       "        </tr>\n",
       "        <tr>\n",
       "            <td>75  </td> <td>4440.55</td> <td>-6  </td> <td>-391.595</td> <td>36      </td> <td>153347     </td> <td>2349.57 </td> <td>4528.2 </td> <td>7683.28  </td> <td>92379.9     </td>\n",
       "        </tr>\n",
       "        <tr>\n",
       "            <td>78  </td> <td>5039.77</td> <td>-3  </td> <td>207.628 </td> <td>9       </td> <td>43109.3    </td> <td>-622.884</td> <td>4680.17</td> <td>129311   </td> <td>23095       </td>\n",
       "        </tr>\n",
       "        <tr>\n",
       "            <td>81  </td> <td>4164.53</td> <td>0   </td> <td>-667.61 </td> <td>0       </td> <td>445704     </td> <td>-0      </td> <td>4832.14</td> <td>445704   </td> <td>0           </td>\n",
       "        </tr>\n",
       "        <tr>\n",
       "            <td>84  </td> <td>5189.71</td> <td>3   </td> <td>357.568 </td> <td>9       </td> <td>127855     </td> <td>1072.7  </td> <td>4984.11</td> <td>42270.3  </td> <td>23095       </td>\n",
       "        </tr>\n",
       "        <tr>\n",
       "            <td>87  </td> <td>5100.66</td> <td>6   </td> <td>268.516 </td> <td>36      </td> <td>72100.9    </td> <td>1611.1  </td> <td>5136.08</td> <td>1254.9   </td> <td>92379.9     </td>\n",
       "        </tr>\n",
       "    </tbody>\n",
       "</table>\n",
       "<p>... (5 rows omitted)</p>"
      ],
      "text/plain": [
       "Xi   | Yi      | x-X  | y-Y      | (x-X)sqr | (y-Y)sqr    | (X*Y)    | Y^      | (y-Y^)sqr | (Y^-ybar)sqr\n",
       "60   | 3965.39 | -21  | -866.752 | 441      | 751259      | 18201.8  | 3768.35 | 38824.7   | 1.13165e+06\n",
       "63   | 3760.41 | -18  | -1071.73 | 324      | 1.14861e+06 | 19291.2  | 3920.32 | 25572     | 831419\n",
       "66   | 3944.34 | -15  | -887.803 | 225      | 788194      | 13317    | 4072.29 | 16371.6   | 577374\n",
       "69   | 4051.71 | -12  | -780.435 | 144      | 609078      | 9365.22  | 4224.26 | 29774.8   | 369519\n",
       "72   | 4504.87 | -9   | -327.277 | 81       | 107110      | 2945.49  | 4376.23 | 16546.7   | 207855\n",
       "75   | 4440.55 | -6   | -391.595 | 36       | 153347      | 2349.57  | 4528.2  | 7683.28   | 92379.9\n",
       "78   | 5039.77 | -3   | 207.628  | 9        | 43109.3     | -622.884 | 4680.17 | 129311    | 23095\n",
       "81   | 4164.53 | 0    | -667.61  | 0        | 445704      | -0       | 4832.14 | 445704    | 0\n",
       "84   | 5189.71 | 3    | 357.568  | 9        | 127855      | 1072.7   | 4984.11 | 42270.3   | 23095\n",
       "87   | 5100.66 | 6    | 268.516  | 36       | 72100.9     | 1611.1   | 5136.08 | 1254.9    | 92379.9\n",
       "... (5 rows omitted)"
      ]
     },
     "execution_count": 8,
     "metadata": {},
     "output_type": "execute_result"
    }
   ],
   "source": [
    "data1"
   ]
  },
  {
   "cell_type": "code",
   "execution_count": 9,
   "metadata": {},
   "outputs": [
    {
     "data": {
      "image/png": "[encoded data removed]",
      "text/plain": [
       "<Figure size 360x360 with 1 Axes>"
      ]
     },
     "metadata": {},
     "output_type": "display_data"
    }
   ],
   "source": [
    "data1.scatter('Xi','Yi')"
   ]
  },
  {
   "cell_type": "code",
   "execution_count": 10,
   "metadata": {},
   "outputs": [
    {
     "data": {
      "image/png": "[encoded data removed]",
      "text/plain": [
       "<Figure size 360x360 with 1 Axes>"
      ]
     },
     "metadata": {},
     "output_type": "display_data"
    }
   ],
   "source": [
    "regression_plot(data1,'Xi','Yi')"
   ]
  },
  {
   "cell_type": "code",
   "execution_count": 11,
   "metadata": {},
   "outputs": [
    {
     "data": {
      "text/html": [
       "<table border=\"1\" class=\"dataframe\">\n",
       "    <thead>\n",
       "        <tr>\n",
       "            <th>Xi</th> <th>Yi</th> <th>x-X</th> <th>y-Y</th> <th>(x-X)sqr</th> <th>(y-Y)sqr</th> <th>(X*Y)</th> <th>Y^</th> <th>(y-Y^)sqr</th> <th>(Y^-ybar)sqr</th>\n",
       "        </tr>\n",
       "    </thead>\n",
       "    <tbody>\n",
       "        <tr>\n",
       "            <td>60  </td> <td>4880.53</td> <td>-21 </td> <td>95.7047 </td> <td>441     </td> <td>9159.38    </td> <td>-2009.8 </td> <td>3909.44</td> <td>943019     </td> <td>766302      </td>\n",
       "        </tr>\n",
       "        <tr>\n",
       "            <td>63  </td> <td>2646.98</td> <td>-18 </td> <td>-2137.85</td> <td>324     </td> <td>4.57042e+06</td> <td>38481.4 </td> <td>4034.5 </td> <td>1.92522e+06</td> <td>562998      </td>\n",
       "        </tr>\n",
       "        <tr>\n",
       "            <td>66  </td> <td>4580.02</td> <td>-15 </td> <td>-204.811</td> <td>225     </td> <td>41947.6    </td> <td>3072.17 </td> <td>4159.55</td> <td>176791     </td> <td>390971      </td>\n",
       "        </tr>\n",
       "        <tr>\n",
       "            <td>69  </td> <td>6035.47</td> <td>-12 </td> <td>1250.64 </td> <td>144     </td> <td>1.5641e+06 </td> <td>-15007.7</td> <td>4284.61</td> <td>3.06551e+06</td> <td>250221      </td>\n",
       "        </tr>\n",
       "        <tr>\n",
       "            <td>72  </td> <td>3669.68</td> <td>-9  </td> <td>-1115.15</td> <td>81      </td> <td>1.24357e+06</td> <td>10036.4 </td> <td>4409.66</td> <td>547583     </td> <td>140749      </td>\n",
       "        </tr>\n",
       "        <tr>\n",
       "            <td>75  </td> <td>4507.8 </td> <td>-6  </td> <td>-277.034</td> <td>36      </td> <td>76747.9    </td> <td>1662.2  </td> <td>4534.72</td> <td>724.879    </td> <td>62555.3     </td>\n",
       "        </tr>\n",
       "        <tr>\n",
       "            <td>78  </td> <td>4537.85</td> <td>-3  </td> <td>-246.983</td> <td>9       </td> <td>61000.8    </td> <td>740.95  </td> <td>4659.77</td> <td>14866.5    </td> <td>15638.8     </td>\n",
       "        </tr>\n",
       "        <tr>\n",
       "            <td>81  </td> <td>4981.83</td> <td>0   </td> <td>197.004 </td> <td>0       </td> <td>38810.8    </td> <td>0       </td> <td>4784.83</td> <td>38810.8    </td> <td>0           </td>\n",
       "        </tr>\n",
       "        <tr>\n",
       "            <td>84  </td> <td>2948.75</td> <td>3   </td> <td>-1836.08</td> <td>9       </td> <td>3.37121e+06</td> <td>-5508.25</td> <td>4909.88</td> <td>3.84607e+06</td> <td>15638.8     </td>\n",
       "        </tr>\n",
       "        <tr>\n",
       "            <td>87  </td> <td>5014.28</td> <td>6   </td> <td>229.448 </td> <td>36      </td> <td>52646.4    </td> <td>1376.69 </td> <td>5034.94</td> <td>426.936    </td> <td>62555.3     </td>\n",
       "        </tr>\n",
       "    </tbody>\n",
       "</table>\n",
       "<p>... (5 rows omitted)</p>"
      ],
      "text/plain": [
       "Xi   | Yi      | x-X  | y-Y      | (x-X)sqr | (y-Y)sqr    | (X*Y)    | Y^      | (y-Y^)sqr   | (Y^-ybar)sqr\n",
       "60   | 4880.53 | -21  | 95.7047  | 441      | 9159.38     | -2009.8  | 3909.44 | 943019      | 766302\n",
       "63   | 2646.98 | -18  | -2137.85 | 324      | 4.57042e+06 | 38481.4  | 4034.5  | 1.92522e+06 | 562998\n",
       "66   | 4580.02 | -15  | -204.811 | 225      | 41947.6     | 3072.17  | 4159.55 | 176791      | 390971\n",
       "69   | 6035.47 | -12  | 1250.64  | 144      | 1.5641e+06  | -15007.7 | 4284.61 | 3.06551e+06 | 250221\n",
       "72   | 3669.68 | -9   | -1115.15 | 81       | 1.24357e+06 | 10036.4  | 4409.66 | 547583      | 140749\n",
       "75   | 4507.8  | -6   | -277.034 | 36       | 76747.9     | 1662.2   | 4534.72 | 724.879     | 62555.3\n",
       "78   | 4537.85 | -3   | -246.983 | 9        | 61000.8     | 740.95   | 4659.77 | 14866.5     | 15638.8\n",
       "81   | 4981.83 | 0    | 197.004  | 0        | 38810.8     | 0        | 4784.83 | 38810.8     | 0\n",
       "84   | 2948.75 | 3    | -1836.08 | 9        | 3.37121e+06 | -5508.25 | 4909.88 | 3.84607e+06 | 15638.8\n",
       "87   | 5014.28 | 6    | 229.448  | 36       | 52646.4     | 1376.69  | 5034.94 | 426.936     | 62555.3\n",
       "... (5 rows omitted)"
      ]
     },
     "execution_count": 11,
     "metadata": {},
     "output_type": "execute_result"
    }
   ],
   "source": [
    "data2"
   ]
  },
  {
   "cell_type": "code",
   "execution_count": 12,
   "metadata": {},
   "outputs": [
    {
     "data": {
      "image/png": "[encoded data removed]",
      "text/plain": [
       "<Figure size 360x360 with 1 Axes>"
      ]
     },
     "metadata": {},
     "output_type": "display_data"
    }
   ],
   "source": [
    "data2.scatter('Xi','Yi')"
   ]
  },
  {
   "cell_type": "code",
   "execution_count": 13,
   "metadata": {},
   "outputs": [
    {
     "data": {
      "image/png": "[encoded data removed]",
      "text/plain": [
       "<Figure size 360x360 with 1 Axes>"
      ]
     },
     "metadata": {},
     "output_type": "display_data"
    }
   ],
   "source": [
    "regression_plot(data2,'Xi','Yi')"
   ]
  },
  {
   "cell_type": "code",
   "execution_count": 14,
   "metadata": {},
   "outputs": [
    {
     "data": {
      "text/html": [
       "<table border=\"1\" class=\"dataframe\">\n",
       "    <thead>\n",
       "        <tr>\n",
       "            <th>Xi</th> <th>Yi</th> <th>x-X</th> <th>y-Y</th> <th>(x-X)sqr</th> <th>(y-Y)sqr</th> <th>(X*Y)</th> <th>Y^</th> <th>(y-Y^)sqr</th> <th>(Y^-ybar)sqr</th>\n",
       "        </tr>\n",
       "    </thead>\n",
       "    <tbody>\n",
       "        <tr>\n",
       "            <td>60  </td> <td>3654.96</td> <td>-21 </td> <td>-977.645</td> <td>441     </td> <td>955790     </td> <td>20530.6</td> <td>3228.44</td> <td>181923     </td> <td>1.97169e+06 </td>\n",
       "        </tr>\n",
       "        <tr>\n",
       "            <td>63  </td> <td>3344.56</td> <td>-18 </td> <td>-1288.05</td> <td>324     </td> <td>1.65906e+06</td> <td>23184.8</td> <td>3429.03</td> <td>7135.58    </td> <td>1.44859e+06 </td>\n",
       "        </tr>\n",
       "        <tr>\n",
       "            <td>66  </td> <td>4507.2 </td> <td>-15 </td> <td>-125.407</td> <td>225     </td> <td>15726.9    </td> <td>1881.11</td> <td>3629.63</td> <td>770131     </td> <td>1.00597e+06 </td>\n",
       "        </tr>\n",
       "        <tr>\n",
       "            <td>69  </td> <td>3772.21</td> <td>-12 </td> <td>-860.395</td> <td>144     </td> <td>740280     </td> <td>10324.7</td> <td>3830.22</td> <td>3365.45    </td> <td>643818      </td>\n",
       "        </tr>\n",
       "        <tr>\n",
       "            <td>72  </td> <td>3581.38</td> <td>-9  </td> <td>-1051.22</td> <td>81      </td> <td>1.10507e+06</td> <td>9461.02</td> <td>4030.82</td> <td>201994     </td> <td>362148      </td>\n",
       "        </tr>\n",
       "        <tr>\n",
       "            <td>75  </td> <td>1722.81</td> <td>-6  </td> <td>-2909.8 </td> <td>36      </td> <td>8.46692e+06</td> <td>17458.8</td> <td>4231.41</td> <td>6.2931e+06 </td> <td>160954      </td>\n",
       "        </tr>\n",
       "        <tr>\n",
       "            <td>78  </td> <td>4482.91</td> <td>-3  </td> <td>-149.7  </td> <td>9       </td> <td>22410      </td> <td>449.099</td> <td>4432.01</td> <td>2590.4     </td> <td>40238.6     </td>\n",
       "        </tr>\n",
       "        <tr>\n",
       "            <td>81  </td> <td>3996.82</td> <td>0   </td> <td>-635.781</td> <td>0       </td> <td>404218     </td> <td>-0     </td> <td>4632.61</td> <td>404218     </td> <td>0           </td>\n",
       "        </tr>\n",
       "        <tr>\n",
       "            <td>84  </td> <td>6921.45</td> <td>3   </td> <td>2288.84 </td> <td>9       </td> <td>5.23881e+06</td> <td>6866.53</td> <td>4833.2 </td> <td>4.36078e+06</td> <td>40238.6     </td>\n",
       "        </tr>\n",
       "        <tr>\n",
       "            <td>87  </td> <td>5006.28</td> <td>6   </td> <td>373.674 </td> <td>36      </td> <td>139632     </td> <td>2242.04</td> <td>5033.8 </td> <td>757.221    </td> <td>160954      </td>\n",
       "        </tr>\n",
       "    </tbody>\n",
       "</table>\n",
       "<p>... (5 rows omitted)</p>"
      ],
      "text/plain": [
       "Xi   | Yi      | x-X  | y-Y      | (x-X)sqr | (y-Y)sqr    | (X*Y)   | Y^      | (y-Y^)sqr   | (Y^-ybar)sqr\n",
       "60   | 3654.96 | -21  | -977.645 | 441      | 955790      | 20530.6 | 3228.44 | 181923      | 1.97169e+06\n",
       "63   | 3344.56 | -18  | -1288.05 | 324      | 1.65906e+06 | 23184.8 | 3429.03 | 7135.58     | 1.44859e+06\n",
       "66   | 4507.2  | -15  | -125.407 | 225      | 15726.9     | 1881.11 | 3629.63 | 770131      | 1.00597e+06\n",
       "69   | 3772.21 | -12  | -860.395 | 144      | 740280      | 10324.7 | 3830.22 | 3365.45     | 643818\n",
       "72   | 3581.38 | -9   | -1051.22 | 81       | 1.10507e+06 | 9461.02 | 4030.82 | 201994      | 362148\n",
       "75   | 1722.81 | -6   | -2909.8  | 36       | 8.46692e+06 | 17458.8 | 4231.41 | 6.2931e+06  | 160954\n",
       "78   | 4482.91 | -3   | -149.7   | 9        | 22410       | 449.099 | 4432.01 | 2590.4      | 40238.6\n",
       "81   | 3996.82 | 0    | -635.781 | 0        | 404218      | -0      | 4632.61 | 404218      | 0\n",
       "84   | 6921.45 | 3    | 2288.84  | 9        | 5.23881e+06 | 6866.53 | 4833.2  | 4.36078e+06 | 40238.6\n",
       "87   | 5006.28 | 6    | 373.674  | 36       | 139632      | 2242.04 | 5033.8  | 757.221     | 160954\n",
       "... (5 rows omitted)"
      ]
     },
     "execution_count": 14,
     "metadata": {},
     "output_type": "execute_result"
    }
   ],
   "source": [
    "data3"
   ]
  },
  {
   "cell_type": "code",
   "execution_count": 15,
   "metadata": {},
   "outputs": [
    {
     "data": {
      "image/png": "[encoded data removed]",
      "text/plain": [
       "<Figure size 360x360 with 1 Axes>"
      ]
     },
     "metadata": {},
     "output_type": "display_data"
    }
   ],
   "source": [
    "data3.scatter('Xi','Yi')"
   ]
  },
  {
   "cell_type": "code",
   "execution_count": 16,
   "metadata": {},
   "outputs": [
    {
     "data": {
      "image/png": "[encoded data removed]",
      "text/plain": [
       "<Figure size 360x360 with 1 Axes>"
      ]
     },
     "metadata": {},
     "output_type": "display_data"
    }
   ],
   "source": [
    "regression_plot(data3,'Xi','Yi')"
   ]
  },
  {
   "cell_type": "markdown",
   "metadata": {},
   "source": [
    "## B. Refit model using y = mx + b"
   ]
  },
  {
   "cell_type": "markdown",
   "metadata": {},
   "source": [
    "**Functions for normaliziing x, calculating correlation and slope using the datascience table of data (t) containig x and y as the argument**"
   ]
  },
  {
   "cell_type": "code",
   "execution_count": 17,
   "metadata": {},
   "outputs": [],
   "source": [
    "def standard_units(a):\n",
    "    '''\n",
    "    Convert an array of numbers into \n",
    "    standard units\n",
    "    '''\n",
    "    return (a-a.mean())/a.std()\n",
    "\n",
    "def correlation(t):\n",
    "    '''\n",
    "    Compute the correlation of two \n",
    "    columns 'x' and 'y' in a table t\n",
    "    '''\n",
    "    x = t.column(0)\n",
    "    y = t.column(1)\n",
    "    z_x = standard_units(x)\n",
    "    z_y = standard_units(y)\n",
    "    return (z_x*z_y).mean()\n",
    "\n",
    "def reg_slope(t):\n",
    "    '''\n",
    "    Compute slope using standard deviations\n",
    "    of x and y in the table\n",
    "    '''\n",
    "    r = correlation(t)\n",
    "    sdX = t.column(0).std()\n",
    "    sdY = t.column(1).std()\n",
    "    return r*sdY/sdX\n",
    "\n",
    "def reg_intercept(t):\n",
    "    '''\n",
    "    Compute intercept using\n",
    "    ybar - r * stdy/stdx * xbar\n",
    "    '''\n",
    "    r = correlation(t)\n",
    "    sdX = t.column(0).std()\n",
    "    sdY = t.column(1).std()\n",
    "    meanX = t.column(0).mean()\n",
    "    meanY = t.column(1).mean()\n",
    "    return meanY - r*(sdY/sdX)*meanX\n",
    "\n",
    "def fit(t):\n",
    "    '''\n",
    "    Call previous functions\n",
    "    to create a fit line \n",
    "    using mx + b\n",
    "    '''\n",
    "    m = reg_slope(t)\n",
    "    b = reg_intercept(t)\n",
    "    x = t.column(0)\n",
    "    return m * x + b"
   ]
  },
  {
   "cell_type": "markdown",
   "metadata": {},
   "source": [
    "**Functions for creating table 2 summary**"
   ]
  },
  {
   "cell_type": "code",
   "execution_count": 18,
   "metadata": {},
   "outputs": [],
   "source": [
    "def sum_tbl(base):\n",
    "    '''\n",
    "    will create an info dictionary\n",
    "    using \n",
    "    '''\n",
    "    t = Table().from_df(base)\n",
    "    x = t.column(0)\n",
    "    y = t.column(1)\n",
    "    xbar = x.mean()\n",
    "    ybar = y.mean()\n",
    "    b1_hat = reg_slope(t)\n",
    "    b0_hat = reg_intercept(t)\n",
    "    yhat = b0_hat + b1_hat*x\n",
    "    SSE = sum((y - yhat)**2)\n",
    "    SSR = sum((yhat-ybar)**2)\n",
    "    SST = sum((y - ybar)**2)\n",
    "    Rsqr = SSR/SST\n",
    "    info = {'b0^': b0_hat,'b1^': b1_hat,'SSE': SSE,'SSR': SSR,'SST': SST,'R^2': Rsqr, 'Xbar':xbar, 'ybar':ybar}\n",
    "    return info"
   ]
  },
  {
   "cell_type": "code",
   "execution_count": 19,
   "metadata": {},
   "outputs": [],
   "source": [
    "# creates objects from previous function\n",
    "info2_1 = sum_tbl(data_1)\n",
    "info2_2 = sum_tbl(data_2)\n",
    "info2_3 = sum_tbl(data_3)\n",
    "info2_df = pd.DataFrame([info2_1,info2_2,info2_3],index=['data1','data2','data3'])"
   ]
  },
  {
   "cell_type": "markdown",
   "metadata": {},
   "source": [
    "## C.  Fit the model using the matrix formula for the LSE's\n",
    "\n",
    "$\\mathbf{\\hat \\beta = (X^T X)^{-1} X^T}$"
   ]
  },
  {
   "cell_type": "code",
   "execution_count": 20,
   "metadata": {},
   "outputs": [],
   "source": [
    "def matrix_fit(base):\n",
    "    '''\n",
    "    creates info dictionary using\n",
    "    matrix formula to obtain results\n",
    "    '''\n",
    "    t = Table().from_df(base)\n",
    "    x = t.column(0)\n",
    "    y = t.column(1)\n",
    "    xbar = x.mean()\n",
    "    ybar = y.mean()\n",
    "    X = np.asarray([[1 for x in range(15)],list(x)]).transpose()\n",
    "    XTX = np.dot(X.transpose(),X)\n",
    "    inverse = np.linalg.inv(XTX)\n",
    "    b_hat = np.dot(np.dot(inverse,X.transpose()),y)\n",
    "    yhat = b_hat[0] + b_hat[1]*x\n",
    "    SSE = sum((y - yhat)**2)\n",
    "    SSR = sum((yhat-ybar)**2)\n",
    "    SST = sum((y - ybar)**2)\n",
    "    Rsqr = SSR/SST\n",
    "    info = {'b0^': b_hat[0],'b1^': b_hat[1],'SSE': SSE,'SSR': SSR,'SST': SST,'R^2': Rsqr}\n",
    "    return info"
   ]
  },
  {
   "cell_type": "code",
   "execution_count": 21,
   "metadata": {},
   "outputs": [],
   "source": [
    "# creates objects from previous function\n",
    "info3_1 = matrix_fit(data_1)\n",
    "info3_2 = matrix_fit(data_2)\n",
    "info3_3 = matrix_fit(data_3)\n",
    "info3_df = pd.DataFrame([info3_1,info3_2,info3_3],index=['data1','data2','data3'])"
   ]
  },
  {
   "cell_type": "markdown",
   "metadata": {},
   "source": [
    "***Display results of each method (A, B, C)***"
   ]
  },
  {
   "cell_type": "code",
   "execution_count": 22,
   "metadata": {},
   "outputs": [
    {
     "data": {
      "text/html": [
       "<div>\n",
       "<style scoped>\n",
       "    .dataframe tbody tr th:only-of-type {\n",
       "        vertical-align: middle;\n",
       "    }\n",
       "\n",
       "    .dataframe tbody tr th {\n",
       "        vertical-align: top;\n",
       "    }\n",
       "\n",
       "    .dataframe thead th {\n",
       "        text-align: right;\n",
       "    }\n",
       "</style>\n",
       "<table border=\"1\" class=\"dataframe\">\n",
       "  <thead>\n",
       "    <tr style=\"text-align: right;\">\n",
       "      <th></th>\n",
       "      <th>R^2</th>\n",
       "      <th>SSE</th>\n",
       "      <th>SSR</th>\n",
       "      <th>SST</th>\n",
       "      <th>Xbar</th>\n",
       "      <th>b0^</th>\n",
       "      <th>b1^</th>\n",
       "      <th>ybar</th>\n",
       "    </tr>\n",
       "  </thead>\n",
       "  <tbody>\n",
       "    <tr>\n",
       "      <th>data1</th>\n",
       "      <td>0.800264</td>\n",
       "      <td>1.613981e+06</td>\n",
       "      <td>6.466590e+06</td>\n",
       "      <td>8.080571e+06</td>\n",
       "      <td>81.0</td>\n",
       "      <td>728.946667</td>\n",
       "      <td>50.656759</td>\n",
       "      <td>4832.144128</td>\n",
       "    </tr>\n",
       "    <tr>\n",
       "      <th>data2</th>\n",
       "      <td>0.243654</td>\n",
       "      <td>1.359282e+07</td>\n",
       "      <td>4.378870e+06</td>\n",
       "      <td>1.797169e+07</td>\n",
       "      <td>81.0</td>\n",
       "      <td>1408.337413</td>\n",
       "      <td>41.685090</td>\n",
       "      <td>4784.829729</td>\n",
       "    </tr>\n",
       "    <tr>\n",
       "      <th>data3</th>\n",
       "      <td>0.439244</td>\n",
       "      <td>1.438363e+07</td>\n",
       "      <td>1.126681e+07</td>\n",
       "      <td>2.565044e+07</td>\n",
       "      <td>81.0</td>\n",
       "      <td>-783.477594</td>\n",
       "      <td>66.865222</td>\n",
       "      <td>4632.605407</td>\n",
       "    </tr>\n",
       "  </tbody>\n",
       "</table>\n",
       "</div>"
      ],
      "text/plain": [
       "            R^2           SSE           SSR           SST  Xbar          b0^  \\\n",
       "data1  0.800264  1.613981e+06  6.466590e+06  8.080571e+06  81.0   728.946667   \n",
       "data2  0.243654  1.359282e+07  4.378870e+06  1.797169e+07  81.0  1408.337413   \n",
       "data3  0.439244  1.438363e+07  1.126681e+07  2.565044e+07  81.0  -783.477594   \n",
       "\n",
       "             b1^         ybar  \n",
       "data1  50.656759  4832.144128  \n",
       "data2  41.685090  4784.829729  \n",
       "data3  66.865222  4632.605407  "
      ]
     },
     "execution_count": 22,
     "metadata": {},
     "output_type": "execute_result"
    }
   ],
   "source": [
    "info_df"
   ]
  },
  {
   "cell_type": "code",
   "execution_count": 23,
   "metadata": {},
   "outputs": [
    {
     "data": {
      "text/html": [
       "<div>\n",
       "<style scoped>\n",
       "    .dataframe tbody tr th:only-of-type {\n",
       "        vertical-align: middle;\n",
       "    }\n",
       "\n",
       "    .dataframe tbody tr th {\n",
       "        vertical-align: top;\n",
       "    }\n",
       "\n",
       "    .dataframe thead th {\n",
       "        text-align: right;\n",
       "    }\n",
       "</style>\n",
       "<table border=\"1\" class=\"dataframe\">\n",
       "  <thead>\n",
       "    <tr style=\"text-align: right;\">\n",
       "      <th></th>\n",
       "      <th>R^2</th>\n",
       "      <th>SSE</th>\n",
       "      <th>SSR</th>\n",
       "      <th>SST</th>\n",
       "      <th>Xbar</th>\n",
       "      <th>b0^</th>\n",
       "      <th>b1^</th>\n",
       "      <th>ybar</th>\n",
       "    </tr>\n",
       "  </thead>\n",
       "  <tbody>\n",
       "    <tr>\n",
       "      <th>data1</th>\n",
       "      <td>0.800264</td>\n",
       "      <td>1.613981e+06</td>\n",
       "      <td>6.466590e+06</td>\n",
       "      <td>8.080571e+06</td>\n",
       "      <td>81.0</td>\n",
       "      <td>728.946667</td>\n",
       "      <td>50.656759</td>\n",
       "      <td>4832.144128</td>\n",
       "    </tr>\n",
       "    <tr>\n",
       "      <th>data2</th>\n",
       "      <td>0.243654</td>\n",
       "      <td>1.359282e+07</td>\n",
       "      <td>4.378870e+06</td>\n",
       "      <td>1.797169e+07</td>\n",
       "      <td>81.0</td>\n",
       "      <td>1408.337413</td>\n",
       "      <td>41.685090</td>\n",
       "      <td>4784.829729</td>\n",
       "    </tr>\n",
       "    <tr>\n",
       "      <th>data3</th>\n",
       "      <td>0.439244</td>\n",
       "      <td>1.438363e+07</td>\n",
       "      <td>1.126681e+07</td>\n",
       "      <td>2.565044e+07</td>\n",
       "      <td>81.0</td>\n",
       "      <td>-783.477594</td>\n",
       "      <td>66.865222</td>\n",
       "      <td>4632.605407</td>\n",
       "    </tr>\n",
       "  </tbody>\n",
       "</table>\n",
       "</div>"
      ],
      "text/plain": [
       "            R^2           SSE           SSR           SST  Xbar          b0^  \\\n",
       "data1  0.800264  1.613981e+06  6.466590e+06  8.080571e+06  81.0   728.946667   \n",
       "data2  0.243654  1.359282e+07  4.378870e+06  1.797169e+07  81.0  1408.337413   \n",
       "data3  0.439244  1.438363e+07  1.126681e+07  2.565044e+07  81.0  -783.477594   \n",
       "\n",
       "             b1^         ybar  \n",
       "data1  50.656759  4832.144128  \n",
       "data2  41.685090  4784.829729  \n",
       "data3  66.865222  4632.605407  "
      ]
     },
     "execution_count": 23,
     "metadata": {},
     "output_type": "execute_result"
    }
   ],
   "source": [
    "info2_df"
   ]
  },
  {
   "cell_type": "code",
   "execution_count": 24,
   "metadata": {},
   "outputs": [
    {
     "data": {
      "text/html": [
       "<div>\n",
       "<style scoped>\n",
       "    .dataframe tbody tr th:only-of-type {\n",
       "        vertical-align: middle;\n",
       "    }\n",
       "\n",
       "    .dataframe tbody tr th {\n",
       "        vertical-align: top;\n",
       "    }\n",
       "\n",
       "    .dataframe thead th {\n",
       "        text-align: right;\n",
       "    }\n",
       "</style>\n",
       "<table border=\"1\" class=\"dataframe\">\n",
       "  <thead>\n",
       "    <tr style=\"text-align: right;\">\n",
       "      <th></th>\n",
       "      <th>R^2</th>\n",
       "      <th>SSE</th>\n",
       "      <th>SSR</th>\n",
       "      <th>SST</th>\n",
       "      <th>b0^</th>\n",
       "      <th>b1^</th>\n",
       "    </tr>\n",
       "  </thead>\n",
       "  <tbody>\n",
       "    <tr>\n",
       "      <th>data1</th>\n",
       "      <td>0.800264</td>\n",
       "      <td>1.613981e+06</td>\n",
       "      <td>6.466590e+06</td>\n",
       "      <td>8.080571e+06</td>\n",
       "      <td>728.946667</td>\n",
       "      <td>50.656759</td>\n",
       "    </tr>\n",
       "    <tr>\n",
       "      <th>data2</th>\n",
       "      <td>0.243654</td>\n",
       "      <td>1.359282e+07</td>\n",
       "      <td>4.378870e+06</td>\n",
       "      <td>1.797169e+07</td>\n",
       "      <td>1408.337413</td>\n",
       "      <td>41.685090</td>\n",
       "    </tr>\n",
       "    <tr>\n",
       "      <th>data3</th>\n",
       "      <td>0.439244</td>\n",
       "      <td>1.438363e+07</td>\n",
       "      <td>1.126681e+07</td>\n",
       "      <td>2.565044e+07</td>\n",
       "      <td>-783.477594</td>\n",
       "      <td>66.865222</td>\n",
       "    </tr>\n",
       "  </tbody>\n",
       "</table>\n",
       "</div>"
      ],
      "text/plain": [
       "            R^2           SSE           SSR           SST          b0^  \\\n",
       "data1  0.800264  1.613981e+06  6.466590e+06  8.080571e+06   728.946667   \n",
       "data2  0.243654  1.359282e+07  4.378870e+06  1.797169e+07  1408.337413   \n",
       "data3  0.439244  1.438363e+07  1.126681e+07  2.565044e+07  -783.477594   \n",
       "\n",
       "             b1^  \n",
       "data1  50.656759  \n",
       "data2  41.685090  \n",
       "data3  66.865222  "
      ]
     },
     "execution_count": 24,
     "metadata": {},
     "output_type": "execute_result"
    }
   ],
   "source": [
    "info3_df"
   ]
  },
  {
   "cell_type": "code",
   "execution_count": null,
   "metadata": {},
   "outputs": [],
   "source": []
  }
 ],
 "metadata": {
  "kernelspec": {
   "display_name": "Python 3",
   "language": "python",
   "name": "python3"
  },
  "language_info": {
   "codemirror_mode": {
    "name": "ipython",
    "version": 3
   },
   "file_extension": ".py",
   "mimetype": "text/x-python",
   "name": "python",
   "nbconvert_exporter": "python",
   "pygments_lexer": "ipython3",
   "version": "3.7.3"
  }
 },
 "nbformat": 4,
 "nbformat_minor": 2
}
