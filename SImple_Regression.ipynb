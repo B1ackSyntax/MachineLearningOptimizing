{
 "cells": [
  {
   "cell_type": "markdown",
   "metadata": {},
   "source": [
    "# Simple Linear Regression \n",
    "\n",
    "Linear regression is a method used to use historical data that is linearly dependent to make predictions about future behaviors. There many methods to implement regression and a few of them will be examined here. One way is by using calutions from two variables such as *x* and *y*. Some formulas for doing so:\n",
    "\n",
    "* $ \\mathbf {\\hat y}  =  \\hat \\beta_0 + \\hat \\beta_1 \\mathbf {\\hat x} + \\mathbf \\epsilon $ using Sum of squares **(SS)** \n",
    "\n",
    "* $ \\mathbf {y = mx + b}$ \n",
    "\n",
    "* Matrix arithematic to calculate Least Square Error **(LSE)** \n",
    "\n",
    "## Formulas:\n",
    "\n",
    "### Beta  hat:\n",
    "\n",
    "$\\mathbf{\\hat \\beta_1 = SSXY / SSX} \\hspace{6cm} \\mathbf{\\hat \\beta_0 = \\overline y -  \\hat \\beta_1 * \\overline x}$\n",
    "\n",
    "$\\mathbf{\\hat \\beta = (X^T X)^{-1} X^T}$\n",
    "\n",
    "### Sum of squares for x and y:\n",
    "\n",
    "**SSX** = $\\mathbf{\\sum(x - \\overline x)^2 }\\hspace{5cm}$ **SSY** = $ \\mathbf{\\sum(y - \\overline y)^2}$\n",
    "\n",
    "**SSXY** = $\\mathbf{\\sum((x - \\overline x)*(y - \\overline y))}$\n",
    "\n",
    "### Sum of squares for error and regression:\n",
    "\n",
    "**SSE** = $\\mathbf{\\sum(yi - \\hat yi)^2} \\hspace{5cm}$ **SSR** = $\\mathbf{\\sum(\\hat yi - \\overline y)^2}$\n",
    "\n",
    "$R^2$ = **SSR / SST** $\\hspace{5cm}$ **Residuals** = $\\mathbf{y - \\hat y}$\n",
    "\n",
    "\n",
    "### Using SciKit Learn\n",
    "\n",
    "This example will also use *SciKit Learn* to make predictions and *Seaborn* along with *MatPlotlib* for visualizations. \n",
    "\n",
    "\n",
    "__[More Information on Regression](https://en.wikipedia.org/wiki/Linear_regression)__"
   ]
  },
  {
   "cell_type": "markdown",
   "metadata": {},
   "source": [
    "### Simple model using sum of squares calculations\n",
    "\n",
    "This is an exmaple of a regression model using data *x* that was generated randomly from a normal distribution and put through a quadratic function to obtain a *y*. This data has been preloaded for convenience. "
   ]
  },
  {
   "cell_type": "code",
   "execution_count": 1,
   "metadata": {},
   "outputs": [],
   "source": [
    "from datascience import * # used for simple tables and scatter plots by converting df() to Table()\n",
    "import pandas as pd\n",
    "import random\n",
    "import matplotlib\n",
    "import matplotlib.pyplot as plt\n",
    "%matplotlib inline\n",
    "plt.style.use('fivethirtyeight')"
   ]
  },
  {
   "cell_type": "code",
   "execution_count": 2,
   "metadata": {},
   "outputs": [],
   "source": [
    "import pandas as pd\n",
    "data = pd.read_csv('RR_dat1.csv')"
   ]
  },
  {
   "cell_type": "markdown",
   "metadata": {},
   "source": [
    "**Functions for creating table and coordinating scatter plot**\n",
    "\n",
    "A dataframe (base) containg two columns: x,y is taken in. The x and y columns are separated for calculations. Each column of calculations will be appended to the frame.  First the mean of both columns are calculated. This leads to the calculations found in the formulas found in the top of this notebook.  "
   ]
  },
  {
   "cell_type": "code",
   "execution_count": 3,
   "metadata": {},
   "outputs": [],
   "source": [
    "# simple plot function\n",
    "def regression_plot(t,x,y):\n",
    "    '''\n",
    "    Takes in a table t and columns for x and y\n",
    "    to plot the fit line created from\n",
    "    the regression model\n",
    "    '''\n",
    "    colors =['red','orange','brown','green','blue','purple','black']\n",
    "    n = random.randint(0,6)\n",
    "    clr = colors[n]\n",
    "    t.scatter(x,y)\n",
    "    plt.plot(t.column(x),t.column('Y^'),color= clr)"
   ]
  },
  {
   "cell_type": "code",
   "execution_count": 4,
   "metadata": {},
   "outputs": [],
   "source": [
    "def create_tbl(base):\n",
    "    '''\n",
    "    This funtion will take a dataframe and\n",
    "    use formulas to obtain slope of fit line\n",
    "    for the regression model. A table will be \n",
    "    created from the base once the dataframe is done \n",
    "    being modified. The table and a dictionary containing \n",
    "    calculation values will be returned\n",
    "    '''\n",
    "    x = base.iloc(1)[0][:]\n",
    "    y = base.iloc(1)[1][:]\n",
    "    xbar = x.mean()\n",
    "    ybar = y.mean()\n",
    "    base['x-X'] = (x - xbar)\n",
    "    base['y-Y'] = (y - ybar)\n",
    "    base['(x-X)sqr'] = (base['x-X'])**2\n",
    "    base['(y-Y)sqr'] = (base['y-Y'])**2\n",
    "    base['(X*Y)'] = (base['x-X']*base['y-Y'])\n",
    "    SST = sum(base['(y-Y)sqr']) # = SSY\n",
    "    SSX = sum(base['(x-X)sqr'])\n",
    "    SSXY = sum(base['(X*Y)'])\n",
    "    b1_hat = SSXY/SSX\n",
    "    b0_hat = ybar - b1_hat*xbar\n",
    "    base['Y^'] = b0_hat + b1_hat*x\n",
    "    base['(y-Y^)sqr'] = (y - base['Y^'])**2\n",
    "    base['(Y^-ybar)sqr'] = (base['Y^'] - ybar)**2\n",
    "    SSE = sum(base['(y-Y^)sqr'])\n",
    "    SSR = sum(base['(Y^-ybar)sqr'])\n",
    "    Rsqr = SSR/SST  \n",
    "    info = {'Xbar':xbar,'b0^': b0_hat,'b1^': b1_hat,'SSE': SSE,'SSR': SSR,'SST': SST,'R^2': Rsqr, 'ybar':ybar}\n",
    "    table = Table().from_df(base)\n",
    "    return table , info"
   ]
  },
  {
   "cell_type": "code",
   "execution_count": 5,
   "metadata": {},
   "outputs": [],
   "source": [
    "# create table of data and results\n",
    "data_table , data_info = create_tbl(data)"
   ]
  },
  {
   "cell_type": "code",
   "execution_count": 6,
   "metadata": {},
   "outputs": [
    {
     "data": {
      "text/html": [
       "<table border=\"1\" class=\"dataframe\">\n",
       "    <thead>\n",
       "        <tr>\n",
       "            <th>X</th> <th>Y</th> <th>x-X</th> <th>y-Y</th> <th>(x-X)sqr</th> <th>(y-Y)sqr</th> <th>(X*Y)</th> <th>Y^</th> <th>(y-Y^)sqr</th> <th>(Y^-ybar)sqr</th>\n",
       "        </tr>\n",
       "    </thead>\n",
       "    <tbody>\n",
       "        <tr>\n",
       "            <td>0.200007 </td> <td>5.26984  </td> <td>-0.112411 </td> <td>0.679218</td> <td>0.0126361 </td> <td>0.461337 </td> <td>-0.0763513</td> <td>4.00952  </td> <td>1.58842  </td> <td>0.337686    </td>\n",
       "        </tr>\n",
       "        <tr>\n",
       "            <td>0.0664092</td> <td>2.33321  </td> <td>-0.246009 </td> <td>-2.25742</td> <td>0.0605203 </td> <td>5.09594  </td> <td>0.555345  </td> <td>3.31888  </td> <td>0.971554 </td> <td>1.61733     </td>\n",
       "        </tr>\n",
       "        <tr>\n",
       "            <td>1.28075  </td> <td>8.16863  </td> <td>0.96833   </td> <td>3.57801 </td> <td>0.937664  </td> <td>12.8021  </td> <td>3.46469   </td> <td>9.59642  </td> <td>2.03858  </td> <td>25.058      </td>\n",
       "        </tr>\n",
       "        <tr>\n",
       "            <td>0.446021 </td> <td>4.80259  </td> <td>0.133603  </td> <td>0.211966</td> <td>0.0178499 </td> <td>0.0449294</td> <td>0.0283193 </td> <td>5.28129  </td> <td>0.229153 </td> <td>0.477018    </td>\n",
       "        </tr>\n",
       "        <tr>\n",
       "            <td>-1.2597  </td> <td>-4.22836 </td> <td>-1.57211  </td> <td>-8.81899</td> <td>2.47154   </td> <td>77.7745  </td> <td>13.8645   </td> <td>-3.53644 </td> <td>0.478759 </td> <td>66.0492     </td>\n",
       "        </tr>\n",
       "        <tr>\n",
       "            <td>-0.729036</td> <td>-0.226804</td> <td>-1.04145  </td> <td>-4.81743</td> <td>1.08463   </td> <td>23.2076  </td> <td>5.01713   </td> <td>-0.793182</td> <td>0.320784 </td> <td>28.9854     </td>\n",
       "        </tr>\n",
       "        <tr>\n",
       "            <td>-0.518343</td> <td>2.14962  </td> <td>-0.830761 </td> <td>-2.441  </td> <td>0.690163  </td> <td>5.9585   </td> <td>2.02789   </td> <td>0.295998 </td> <td>3.43592  </td> <td>18.4438     </td>\n",
       "        </tr>\n",
       "        <tr>\n",
       "            <td>1.88309  </td> <td>12.2635  </td> <td>1.57067   </td> <td>7.67291 </td> <td>2.46701   </td> <td>58.8735  </td> <td>12.0516   </td> <td>12.7102  </td> <td>0.199544 </td> <td>65.928      </td>\n",
       "        </tr>\n",
       "        <tr>\n",
       "            <td>0.296151 </td> <td>5.37155  </td> <td>-0.0162668</td> <td>0.780924</td> <td>0.00026461</td> <td>0.609843 </td> <td>-0.0127032</td> <td>4.50653  </td> <td>0.748253 </td> <td>0.00707139  </td>\n",
       "        </tr>\n",
       "        <tr>\n",
       "            <td>0.933397 </td> <td>9.6974   </td> <td>0.62098   </td> <td>5.10677 </td> <td>0.385616  </td> <td>26.0791  </td> <td>3.1712    </td> <td>7.80079  </td> <td>3.59714  </td> <td>10.3051     </td>\n",
       "        </tr>\n",
       "    </tbody>\n",
       "</table>\n",
       "<p>... (5 rows omitted)</p>"
      ],
      "text/plain": [
       "X         | Y         | x-X        | y-Y      | (x-X)sqr   | (y-Y)sqr  | (X*Y)      | Y^        | (y-Y^)sqr | (Y^-ybar)sqr\n",
       "0.200007  | 5.26984   | -0.112411  | 0.679218 | 0.0126361  | 0.461337  | -0.0763513 | 4.00952   | 1.58842   | 0.337686\n",
       "0.0664092 | 2.33321   | -0.246009  | -2.25742 | 0.0605203  | 5.09594   | 0.555345   | 3.31888   | 0.971554  | 1.61733\n",
       "1.28075   | 8.16863   | 0.96833    | 3.57801  | 0.937664   | 12.8021   | 3.46469    | 9.59642   | 2.03858   | 25.058\n",
       "0.446021  | 4.80259   | 0.133603   | 0.211966 | 0.0178499  | 0.0449294 | 0.0283193  | 5.28129   | 0.229153  | 0.477018\n",
       "-1.2597   | -4.22836  | -1.57211   | -8.81899 | 2.47154    | 77.7745   | 13.8645    | -3.53644  | 0.478759  | 66.0492\n",
       "-0.729036 | -0.226804 | -1.04145   | -4.81743 | 1.08463    | 23.2076   | 5.01713    | -0.793182 | 0.320784  | 28.9854\n",
       "-0.518343 | 2.14962   | -0.830761  | -2.441   | 0.690163   | 5.9585    | 2.02789    | 0.295998  | 3.43592   | 18.4438\n",
       "1.88309   | 12.2635   | 1.57067    | 7.67291  | 2.46701    | 58.8735   | 12.0516    | 12.7102   | 0.199544  | 65.928\n",
       "0.296151  | 5.37155   | -0.0162668 | 0.780924 | 0.00026461 | 0.609843  | -0.0127032 | 4.50653   | 0.748253  | 0.00707139\n",
       "0.933397  | 9.6974    | 0.62098    | 5.10677  | 0.385616   | 26.0791   | 3.1712     | 7.80079   | 3.59714   | 10.3051\n",
       "... (5 rows omitted)"
      ]
     },
     "execution_count": 6,
     "metadata": {},
     "output_type": "execute_result"
    }
   ],
   "source": [
    "# view data table\n",
    "data_table"
   ]
  },
  {
   "cell_type": "code",
   "execution_count": 7,
   "metadata": {},
   "outputs": [
    {
     "data": {
      "text/plain": [
       "-0.0"
      ]
     },
     "execution_count": 7,
     "metadata": {},
     "output_type": "execute_result"
    }
   ],
   "source": [
    "# checking sum of residual errors. They should = 0\n",
    "round((sum(data['Y']-data['Y^'])),2)"
   ]
  },
  {
   "cell_type": "code",
   "execution_count": 8,
   "metadata": {},
   "outputs": [
    {
     "data": {
      "text/html": [
       "<div>\n",
       "<style scoped>\n",
       "    .dataframe tbody tr th:only-of-type {\n",
       "        vertical-align: middle;\n",
       "    }\n",
       "\n",
       "    .dataframe tbody tr th {\n",
       "        vertical-align: top;\n",
       "    }\n",
       "\n",
       "    .dataframe thead th {\n",
       "        text-align: right;\n",
       "    }\n",
       "</style>\n",
       "<table border=\"1\" class=\"dataframe\">\n",
       "  <thead>\n",
       "    <tr style=\"text-align: right;\">\n",
       "      <th></th>\n",
       "      <th>R^2</th>\n",
       "      <th>SSE</th>\n",
       "      <th>SSR</th>\n",
       "      <th>SST</th>\n",
       "      <th>Xbar</th>\n",
       "      <th>b0^</th>\n",
       "      <th>b1^</th>\n",
       "      <th>ybar</th>\n",
       "    </tr>\n",
       "  </thead>\n",
       "  <tbody>\n",
       "    <tr>\n",
       "      <th>data</th>\n",
       "      <td>0.94706</td>\n",
       "      <td>16.49797</td>\n",
       "      <td>295.134613</td>\n",
       "      <td>311.632583</td>\n",
       "      <td>0.312418</td>\n",
       "      <td>2.975577</td>\n",
       "      <td>5.169512</td>\n",
       "      <td>4.590625</td>\n",
       "    </tr>\n",
       "  </tbody>\n",
       "</table>\n",
       "</div>"
      ],
      "text/plain": [
       "          R^2       SSE         SSR         SST      Xbar       b0^       b1^  \\\n",
       "data  0.94706  16.49797  295.134613  311.632583  0.312418  2.975577  5.169512   \n",
       "\n",
       "          ybar  \n",
       "data  4.590625  "
      ]
     },
     "execution_count": 8,
     "metadata": {},
     "output_type": "execute_result"
    }
   ],
   "source": [
    "# check output of info\n",
    "info_df = pd.DataFrame([data_info],index=['data'])\n",
    "info_df"
   ]
  },
  {
   "cell_type": "code",
   "execution_count": 9,
   "metadata": {},
   "outputs": [
    {
     "data": {
      "image/png": "[encoded data removed]",
      "text/plain": [
       "<Figure size 360x360 with 1 Axes>"
      ]
     },
     "metadata": {},
     "output_type": "display_data"
    }
   ],
   "source": [
    "# plot data\n",
    "data_table.scatter('X','Y')"
   ]
  },
  {
   "cell_type": "code",
   "execution_count": 10,
   "metadata": {},
   "outputs": [
    {
     "data": {
      "image/png": "[encoded data removed]",
      "text/plain": [
       "<Figure size 360x360 with 1 Axes>"
      ]
     },
     "metadata": {},
     "output_type": "display_data"
    }
   ],
   "source": [
    "# plot calculated regression line\n",
    "regression_plot(data_table,'X','Y')"
   ]
  },
  {
   "cell_type": "markdown",
   "metadata": {},
   "source": [
    "### Time Series\n",
    "\n",
    "__[NOAA's Climate at a Glance](https://ncdcnoaa.goc/cag)__ has time series data for New York's annual temperatures. This data will be used to demonstrate simple linear regression using __[SciKit Learn](https://scikit-learn.org/stable/modules/generated/sklearn.linear_model.LinearRegression.html)__ . The CSV file has been dowloaded for convenience."
   ]
  },
  {
   "cell_type": "code",
   "execution_count": 11,
   "metadata": {},
   "outputs": [],
   "source": [
    "# to enable Matplotlib in this notebook\n",
    "%matplotlib inline\n",
    "import pandas as pd"
   ]
  },
  {
   "cell_type": "code",
   "execution_count": 12,
   "metadata": {},
   "outputs": [],
   "source": [
    "# read csv\n",
    "nyc = pd.read_csv('ave_yearly_temp_nyc_1895-2017.csv')"
   ]
  },
  {
   "cell_type": "code",
   "execution_count": 13,
   "metadata": {},
   "outputs": [
    {
     "data": {
      "text/html": [
       "<div>\n",
       "<style scoped>\n",
       "    .dataframe tbody tr th:only-of-type {\n",
       "        vertical-align: middle;\n",
       "    }\n",
       "\n",
       "    .dataframe tbody tr th {\n",
       "        vertical-align: top;\n",
       "    }\n",
       "\n",
       "    .dataframe thead th {\n",
       "        text-align: right;\n",
       "    }\n",
       "</style>\n",
       "<table border=\"1\" class=\"dataframe\">\n",
       "  <thead>\n",
       "    <tr style=\"text-align: right;\">\n",
       "      <th></th>\n",
       "      <th>Date</th>\n",
       "      <th>Value</th>\n",
       "      <th>Anomaly</th>\n",
       "    </tr>\n",
       "  </thead>\n",
       "  <tbody>\n",
       "    <tr>\n",
       "      <th>0</th>\n",
       "      <td>189512</td>\n",
       "      <td>52.1</td>\n",
       "      <td>-1.8</td>\n",
       "    </tr>\n",
       "    <tr>\n",
       "      <th>1</th>\n",
       "      <td>189612</td>\n",
       "      <td>52.3</td>\n",
       "      <td>-1.6</td>\n",
       "    </tr>\n",
       "    <tr>\n",
       "      <th>2</th>\n",
       "      <td>189712</td>\n",
       "      <td>52.3</td>\n",
       "      <td>-1.6</td>\n",
       "    </tr>\n",
       "    <tr>\n",
       "      <th>3</th>\n",
       "      <td>189812</td>\n",
       "      <td>53.8</td>\n",
       "      <td>-0.1</td>\n",
       "    </tr>\n",
       "    <tr>\n",
       "      <th>4</th>\n",
       "      <td>189912</td>\n",
       "      <td>52.7</td>\n",
       "      <td>-1.2</td>\n",
       "    </tr>\n",
       "  </tbody>\n",
       "</table>\n",
       "</div>"
      ],
      "text/plain": [
       "     Date  Value  Anomaly\n",
       "0  189512   52.1     -1.8\n",
       "1  189612   52.3     -1.6\n",
       "2  189712   52.3     -1.6\n",
       "3  189812   53.8     -0.1\n",
       "4  189912   52.7     -1.2"
      ]
     },
     "execution_count": 13,
     "metadata": {},
     "output_type": "execute_result"
    }
   ],
   "source": [
    "# verify df\n",
    "nyc.head()"
   ]
  },
  {
   "cell_type": "markdown",
   "metadata": {},
   "source": [
    "'Value\" should be changed to 'Temperature' to make things easier to understand"
   ]
  },
  {
   "cell_type": "code",
   "execution_count": 14,
   "metadata": {},
   "outputs": [],
   "source": [
    "# rename columns\n",
    "nyc.columns = ['Date', 'Temperature', 'Anomaly']"
   ]
  },
  {
   "cell_type": "code",
   "execution_count": 15,
   "metadata": {},
   "outputs": [],
   "source": [
    "# reformat the Date values\n",
    "nyc.Date = nyc.Date.floordiv(100)"
   ]
  },
  {
   "cell_type": "code",
   "execution_count": 16,
   "metadata": {},
   "outputs": [
    {
     "data": {
      "text/html": [
       "<div>\n",
       "<style scoped>\n",
       "    .dataframe tbody tr th:only-of-type {\n",
       "        vertical-align: middle;\n",
       "    }\n",
       "\n",
       "    .dataframe tbody tr th {\n",
       "        vertical-align: top;\n",
       "    }\n",
       "\n",
       "    .dataframe thead th {\n",
       "        text-align: right;\n",
       "    }\n",
       "</style>\n",
       "<table border=\"1\" class=\"dataframe\">\n",
       "  <thead>\n",
       "    <tr style=\"text-align: right;\">\n",
       "      <th></th>\n",
       "      <th>Date</th>\n",
       "      <th>Temperature</th>\n",
       "      <th>Anomaly</th>\n",
       "    </tr>\n",
       "  </thead>\n",
       "  <tbody>\n",
       "    <tr>\n",
       "      <th>0</th>\n",
       "      <td>1895</td>\n",
       "      <td>52.1</td>\n",
       "      <td>-1.8</td>\n",
       "    </tr>\n",
       "    <tr>\n",
       "      <th>1</th>\n",
       "      <td>1896</td>\n",
       "      <td>52.3</td>\n",
       "      <td>-1.6</td>\n",
       "    </tr>\n",
       "    <tr>\n",
       "      <th>2</th>\n",
       "      <td>1897</td>\n",
       "      <td>52.3</td>\n",
       "      <td>-1.6</td>\n",
       "    </tr>\n",
       "  </tbody>\n",
       "</table>\n",
       "</div>"
      ],
      "text/plain": [
       "   Date  Temperature  Anomaly\n",
       "0  1895         52.1     -1.8\n",
       "1  1896         52.3     -1.6\n",
       "2  1897         52.3     -1.6"
      ]
     },
     "execution_count": 16,
     "metadata": {},
     "output_type": "execute_result"
    }
   ],
   "source": [
    "nyc.head(3)"
   ]
  },
  {
   "cell_type": "markdown",
   "metadata": {},
   "source": [
    "### Training and Testing\n",
    "\n",
    "As always the data needs to be split so that some will be used to train the model and the others used for testing the model's performance. By default, the estimators will use all the numeric features in a dataset so one feature (*Date*) will be used as an independent variable. Selecting one column from a dataset will produce a *one-dimensional series* but training and testing requires *two-dimensional* objects. The data must be reshaped to achieve this by using `reshape` provided by *NumPy*. The expression `nyc.Date` returns the Date column's *series*. The *-1* in the `reshape` argment causes *NumPy* to infere the number of rows. By default 75% of the data will be used for training and 25% will be used for testing. "
   ]
  },
  {
   "cell_type": "code",
   "execution_count": 17,
   "metadata": {},
   "outputs": [],
   "source": [
    "from sklearn.model_selection import train_test_split"
   ]
  },
  {
   "cell_type": "code",
   "execution_count": 18,
   "metadata": {},
   "outputs": [],
   "source": [
    "X_train, X_test, y_train, y_test = train_test_split(\n",
    "     nyc.Date.values.reshape(-1, 1), nyc.Temperature.values)"
   ]
  },
  {
   "cell_type": "code",
   "execution_count": 19,
   "metadata": {},
   "outputs": [
    {
     "data": {
      "text/plain": [
       "(92, 1)"
      ]
     },
     "execution_count": 19,
     "metadata": {},
     "output_type": "execute_result"
    }
   ],
   "source": [
    "X_train.shape"
   ]
  },
  {
   "cell_type": "code",
   "execution_count": 20,
   "metadata": {},
   "outputs": [
    {
     "data": {
      "text/plain": [
       "(31, 1)"
      ]
     },
     "execution_count": 20,
     "metadata": {},
     "output_type": "execute_result"
    }
   ],
   "source": [
    "X_test.shape"
   ]
  },
  {
   "cell_type": "markdown",
   "metadata": {},
   "source": [
    "### Training\n",
    "\n",
    "The module `LinearRegression` will provide a simple way to implement a regression algorithm on the data. After training the estimator is called, an object containing the slope and y intercept, as in **y = mx + b** can be accessed by using `coef_` for *m* (* regression slope*) and `intercept_` for *b*. "
   ]
  },
  {
   "cell_type": "code",
   "execution_count": 21,
   "metadata": {},
   "outputs": [],
   "source": [
    "# import module\n",
    "from sklearn.linear_model import LinearRegression"
   ]
  },
  {
   "cell_type": "code",
   "execution_count": 22,
   "metadata": {},
   "outputs": [],
   "source": [
    "# create instance\n",
    "linear_regression = LinearRegression()"
   ]
  },
  {
   "cell_type": "code",
   "execution_count": 23,
   "metadata": {},
   "outputs": [
    {
     "data": {
      "text/plain": [
       "LinearRegression(copy_X=True, fit_intercept=True, n_jobs=None, normalize=False)"
      ]
     },
     "execution_count": 23,
     "metadata": {},
     "output_type": "execute_result"
    }
   ],
   "source": [
    "# build model\n",
    "linear_regression.fit(X=X_train, y=y_train)"
   ]
  },
  {
   "cell_type": "code",
   "execution_count": 24,
   "metadata": {},
   "outputs": [
    {
     "data": {
      "text/plain": [
       "array([0.03497586])"
      ]
     },
     "execution_count": 24,
     "metadata": {},
     "output_type": "execute_result"
    }
   ],
   "source": [
    "# display coeff\n",
    "linear_regression.coef_"
   ]
  },
  {
   "cell_type": "code",
   "execution_count": 25,
   "metadata": {},
   "outputs": [
    {
     "data": {
      "text/plain": [
       "-14.672637403916603"
      ]
     },
     "execution_count": 25,
     "metadata": {},
     "output_type": "execute_result"
    }
   ],
   "source": [
    "# display intercept\n",
    "linear_regression.intercept_"
   ]
  },
  {
   "cell_type": "markdown",
   "metadata": {},
   "source": [
    "### Testing\n",
    "\n",
    "The model will be tested for accuracy and the results of every fifth element will be displayed. "
   ]
  },
  {
   "cell_type": "code",
   "execution_count": 26,
   "metadata": {},
   "outputs": [],
   "source": [
    "# make predicions\n",
    "predicted = linear_regression.predict(X_test)"
   ]
  },
  {
   "cell_type": "code",
   "execution_count": 27,
   "metadata": {},
   "outputs": [],
   "source": [
    "# change name for legibility\n",
    "expected = y_test"
   ]
  },
  {
   "cell_type": "code",
   "execution_count": 28,
   "metadata": {},
   "outputs": [
    {
     "name": "stdout",
     "output_type": "stream",
     "text": [
      "predicted: 53.25, expected: 53.50\n",
      "predicted: 55.38, expected: 53.80\n",
      "predicted: 52.45, expected: 53.20\n",
      "predicted: 54.68, expected: 54.80\n",
      "predicted: 52.87, expected: 55.00\n",
      "predicted: 53.29, expected: 53.20\n",
      "predicted: 52.41, expected: 52.60\n"
     ]
    }
   ],
   "source": [
    "# display every fifth prediction\n",
    "for p, e in zip(predicted[::5], expected[::5]):\n",
    "     print(f'predicted: {p:.2f}, expected: {e:.2f}')"
   ]
  },
  {
   "cell_type": "markdown",
   "metadata": {},
   "source": [
    "### Predicting\n",
    "\n",
    "The coefficient and intercept can be used to make predictions. `Lambda` will perform the *mx + b* function on each line. "
   ]
  },
  {
   "cell_type": "code",
   "execution_count": 29,
   "metadata": {},
   "outputs": [],
   "source": [
    "predict = (lambda x: linear_regression.coef_ * x + \n",
    "                      linear_regression.intercept_)"
   ]
  },
  {
   "cell_type": "code",
   "execution_count": 30,
   "metadata": {},
   "outputs": [
    {
     "data": {
      "text/plain": [
       "array([55.97859782])"
      ]
     },
     "execution_count": 30,
     "metadata": {},
     "output_type": "execute_result"
    }
   ],
   "source": [
    "predict(2020)"
   ]
  },
  {
   "cell_type": "code",
   "execution_count": 31,
   "metadata": {},
   "outputs": [
    {
     "data": {
      "text/plain": [
       "array([51.78149473])"
      ]
     },
     "execution_count": 31,
     "metadata": {},
     "output_type": "execute_result"
    }
   ],
   "source": [
    "predict(1900)"
   ]
  },
  {
   "cell_type": "markdown",
   "metadata": {},
   "source": [
    "### Visualizing Regression Line\n",
    "\n",
    "A scatter plot from `Seaborn` will provide more sophisticated plots for visualizing the data and the regression line. To display th regression line:\n",
    "* an array containg the minimum and maximum date values in `nyc.Date` is created as the *x coordinates* of the regression line's start and end points\n",
    "* the values obtained from `predict lambda` will be used as the *y coordinates*. "
   ]
  },
  {
   "cell_type": "code",
   "execution_count": 33,
   "metadata": {},
   "outputs": [
    {
     "data": {
      "image/png": "[encoded data removed]",
      "text/plain": [
       "<Figure size 504x504 with 1 Axes>"
      ]
     },
     "metadata": {
      "needs_background": "light"
     },
     "output_type": "display_data"
    }
   ],
   "source": [
    "import seaborn as sns\n",
    "\n",
    "figure = plt.figure(figsize=(7, 7))\n",
    "\n",
    "axes = sns.scatterplot(data=nyc, x='Date', y='Temperature',\n",
    "     hue='Temperature', palette='inferno', legend=False)\n",
    "\n",
    "axes.set_ylim(25, 85) # centers the output\n",
    "\n",
    "import numpy as np\n",
    "\n",
    "x = np.array([min(nyc.Date.values), max(nyc.Date.values)])\n",
    "\n",
    "y = predict(x)\n",
    "\n",
    "import matplotlib.pyplot as plt \n",
    "\n",
    "line = plt.plot(x, y,'k--')"
   ]
  },
  {
   "cell_type": "code",
   "execution_count": null,
   "metadata": {},
   "outputs": [],
   "source": []
  }
 ],
 "metadata": {
  "kernelspec": {
   "display_name": "Python 3",
   "language": "python",
   "name": "python3"
  },
  "language_info": {
   "codemirror_mode": {
    "name": "ipython",
    "version": 3
   },
   "file_extension": ".py",
   "mimetype": "text/x-python",
   "name": "python",
   "nbconvert_exporter": "python",
   "pygments_lexer": "ipython3",
   "version": "3.7.3"
  }
 },
 "nbformat": 4,
 "nbformat_minor": 2
}
