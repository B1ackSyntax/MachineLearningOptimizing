{
 "cells": [
  {
   "cell_type": "markdown",
   "metadata": {},
   "source": [
    "# K-Neareset Neighbors"
   ]
  },
  {
   "cell_type": "markdown",
   "metadata": {},
   "source": [
    "This notebook will use the **Digits** data set bundled with *scikit-learn* to implement **K-Neareset Neighbors**.\n",
    "This is a simple machine learning algorithm that is very popular. The *scikit-learn* estimator will use the `fit` method to implement **KNN**. This estimator  will look at the *k-nearest* neighbors to make predictions. It is said to be *lazy* since the work is performed only when used to make predictions. By default **KNN** looks at the five nearest neighbors to make its predictions. The default estimator will be mostly used for simplicity. This notebook will inspect the data, prepare data for fiting, fit the model, and review the results. The end of this example will include **KFolds** and testing multiple models for best accuracy.\n",
    "\n",
    "__[More info on KNN](https://en.wikipedia.org/wiki/K-nearest_neighbors_algorithm)__\n",
    "\n",
    "__[More info on Scikit-Learn](http://scikit-learn.org/stable/modules/generated/sklearn.neighbors.KNeighborsClassifier.html)__\n"
   ]
  },
  {
   "cell_type": "code",
   "execution_count": 1,
   "metadata": {},
   "outputs": [],
   "source": [
    "# Load_digits returns Bunch object containing the digits and information\n",
    "from sklearn.datasets import load_digits\n",
    "# Load_digits will flatten each 2D array into 1D array\n",
    "digits = load_digits()"
   ]
  },
  {
   "cell_type": "code",
   "execution_count": 2,
   "metadata": {},
   "outputs": [
    {
     "name": "stdout",
     "output_type": "stream",
     "text": [
      ".. _digits_dataset:\n",
      "\n",
      "Optical recognition of handwritten digits dataset\n",
      "--------------------------------------------------\n",
      "\n",
      "**Data Set Characteristics:**\n",
      "\n",
      "    :Number of Instances: 5620\n",
      "    :Number of Attributes: 64\n",
      "    :Attribute Information: 8x8 image of integer pixels in the range 0..16.\n",
      "    :Missing Attribute Values: None\n",
      "    :Creator: E. Alpaydin (alpaydin '@' boun.edu.tr)\n",
      "    :Date: July; 1998\n",
      "\n",
      "This is a copy of the test set of the UCI ML hand-written digits datasets\n",
      "https://archive.ics.uci.edu/ml/datasets/Optical+Recognition+of+Handwritten+Digits\n",
      "\n",
      "The data set contains images of hand-written digits: 10 classes where\n",
      "each class refers to a digit.\n",
      "\n",
      "Preprocessing programs made available by NIST were used to extract\n",
      "normalized bitmaps of handwritten digits from a preprinted form. From a\n",
      "total of 43 people, 30 contributed to the training set and different 13\n",
      "to the test set. 32x32 bitmaps are divided into nonoverlapping blocks of\n",
      "4x4 and the number of on pixels are counted in each block. This generates\n",
      "an input matrix of 8x8 where each element is an integer in the range\n",
      "0..16. This reduces dimensionality and gives invariance to small\n",
      "distortions.\n",
      "\n",
      "For info on NIST preprocessing routines, see M. D. Garris, J. L. Blue, G.\n",
      "T. Candela, D. L. Dimmick, J. Geist, P. J. Grother, S. A. Janet, and C.\n",
      "L. Wilson, NIST Form-Based Handprint Recognition System, NISTIR 5469,\n",
      "1994.\n",
      "\n",
      ".. topic:: References\n",
      "\n",
      "  - C. Kaynak (1995) Methods of Combining Multiple Classifiers and Their\n",
      "    Applications to Handwritten Digit Recognition, MSc Thesis, Institute of\n",
      "    Graduate Studies in Science and Engineering, Bogazici University.\n",
      "  - E. Alpaydin, C. Kaynak (1998) Cascading Classifiers, Kybernetika.\n",
      "  - Ken Tang and Ponnuthurai N. Suganthan and Xi Yao and A. Kai Qin.\n",
      "    Linear dimensionalityreduction using relevance weighted LDA. School of\n",
      "    Electrical and Electronic Engineering Nanyang Technological University.\n",
      "    2005.\n",
      "  - Claudio Gentile. A New Approximate Maximal Margin Classification\n",
      "    Algorithm. NIPS. 2000.\n"
     ]
    }
   ],
   "source": [
    "# print description of dataset\n",
    "print(digits.DESCR)"
   ]
  },
  {
   "cell_type": "markdown",
   "metadata": {},
   "source": [
    "## Inspect the data\n",
    "\n",
    "**It is benificial to inspect the data and become familiar with its details**\n",
    "\n",
    "First we will ensure the dimensions are compatible for the next step"
   ]
  },
  {
   "cell_type": "code",
   "execution_count": 3,
   "metadata": {},
   "outputs": [
    {
     "data": {
      "text/plain": [
       "array([0, 4, 1, 7, 4, 8, 2, 2, 4, 4, 1, 9, 7, 3, 2, 1, 2, 5])"
      ]
     },
     "execution_count": 3,
     "metadata": {},
     "output_type": "execute_result"
    }
   ],
   "source": [
    "# display the target value of every 100th sample\n",
    "digits.target[::100]"
   ]
  },
  {
   "cell_type": "code",
   "execution_count": 4,
   "metadata": {},
   "outputs": [
    {
     "data": {
      "text/plain": [
       "(1797, 64)"
      ]
     },
     "execution_count": 4,
     "metadata": {},
     "output_type": "execute_result"
    }
   ],
   "source": [
    "# confirm the number of samples and features per sample\n",
    "digits.data.shape"
   ]
  },
  {
   "cell_type": "code",
   "execution_count": 5,
   "metadata": {},
   "outputs": [
    {
     "data": {
      "text/plain": [
       "(1797,)"
      ]
     },
     "execution_count": 5,
     "metadata": {},
     "output_type": "execute_result"
    }
   ],
   "source": [
    "# confirm number of targets\n",
    "digits.target.shape"
   ]
  },
  {
   "cell_type": "markdown",
   "metadata": {},
   "source": [
    "**We can explore our data by using matplotlib visualization toools.** \n",
    "\n",
    "The data array contains 1797 samples, each with 64 features in the range of 1-16, representing the intesity of the pixels."
   ]
  },
  {
   "cell_type": "code",
   "execution_count": 6,
   "metadata": {},
   "outputs": [
    {
     "data": {
      "text/plain": [
       "<Figure size 600x300 with 4 Axes>"
      ]
     },
     "metadata": {},
     "output_type": "display_data"
    }
   ],
   "source": [
    "import matplotlib.pyplot as plt\n",
    "import numpy as np\n",
    "from matplotlib import cm\n",
    "from matplotlib.colors import ListedColormap, LinearSegmentedColormap\n",
    "\n",
    "def plot_examples(cms):\n",
    "    \"\"\"\n",
    "    helper function to plot two colormaps\n",
    "    \"\"\"\n",
    "    fig, axs = plt.subplots(1, 2, figsize=(6, 3), constrained_layout=True)\n",
    "    for [ax, cmap] in zip(axs, cms):\n",
    "        data = np.random.randn(10, 10)\n",
    "        psm = ax.pcolormesh(data, cmap=cmap, vmin=-1, vmax=16)\n",
    "        fig.colorbar(psm, ax=ax)\n",
    "    plt.show()\n",
    "     \n",
    "g1 = cm.get_cmap('Greys', 16)\n",
    "g2 = cm.get_cmap('gray_r', 16)\n",
    "plot_examples([g1,g2])\n",
    "\n",
    "_,axes = plt.subplots(2, 5,figsize=(7,5))\n",
    "images_and_labels = list(zip(digits.images, digits.target))\n",
    "for ax, (image, label) in zip(axes[0, :], images_and_labels[:5]):\n",
    "    ax.imshow(image, cmap=plt.cm.gray_r, interpolation='nearest')\n",
    "    ax.set_title('%i' % label)\n",
    "    ax.set_axis_off()\n",
    "for ax, (image, label) in zip(axes[1, :], images_and_labels[5:10]):\n",
    "    ax.imshow(image, cmap=plt.cm.gray_r, interpolation='nearest')\n",
    "    ax.set_title('%i' % label)\n",
    "    ax.set_axis_off()\n",
    "    "
   ]
  },
  {
   "cell_type": "markdown",
   "metadata": {},
   "source": [
    "## Splitting the data\n",
    "\n",
    "**We need to split our data for training the model, then testing its precision**\n",
    "\n",
    "Typically data is separated so that we can evaluate the model's performance on data that the model has not seen yet. We will use the sklearn module to split our data randomly. Function **`train_test_split`** will return a tuple of four elementsin which the first two are the *samples* split into training and testing sets, and the last two are the corresponding *training* values split into *training* and *testing sets*. Typically, uppecase **X** is used to represent the *samples*, and lowercase **y** is used ot represent the *targets*. The data has been split into 80% used for *training* and 20% for *testing*. This is achieved by using the heyword argument **`test_size = 0.20`**. The default is 75% for *training* and 25% for *testing*. Using scikit-learn's bundled classification datasets are **balanced**, that is, the samples are divided evenly among the classes. Unbalanced classes can lead to incorrect results."
   ]
  },
  {
   "cell_type": "code",
   "execution_count": 7,
   "metadata": {},
   "outputs": [],
   "source": [
    "from sklearn.model_selection import train_test_split\n",
    "X_train, X_test, y_train, y_test = train_test_split(\n",
    "digits.data, digits.target, test_size = 0.20)"
   ]
  },
  {
   "cell_type": "code",
   "execution_count": 8,
   "metadata": {},
   "outputs": [
    {
     "name": "stdout",
     "output_type": "stream",
     "text": [
      "(1437, 64) \n",
      "\n",
      "79.97%\n"
     ]
    }
   ],
   "source": [
    "print(X_train.shape,'\\n')\n",
    "print(f'{X_train.shape[0]/1797:0.2%}')"
   ]
  },
  {
   "cell_type": "code",
   "execution_count": 9,
   "metadata": {},
   "outputs": [
    {
     "name": "stdout",
     "output_type": "stream",
     "text": [
      "(360, 64) \n",
      "\n",
      "20.03%\n"
     ]
    }
   ],
   "source": [
    "print(X_test.shape,'\\n')\n",
    "print(f'{X_test.shape[0]/1797:0.2%}')"
   ]
  },
  {
   "cell_type": "markdown",
   "metadata": {},
   "source": [
    "**The KNeighborsClassifier**\n",
    "\n",
    "The next cell will create an object that will implement K-Nearest Neighbors"
   ]
  },
  {
   "cell_type": "code",
   "execution_count": 10,
   "metadata": {},
   "outputs": [],
   "source": [
    "from sklearn.neighbors import KNeighborsClassifier\n",
    "knn = KNeighborsClassifier()"
   ]
  },
  {
   "cell_type": "markdown",
   "metadata": {},
   "source": [
    "The `fit` method of **KNN** will be used to on training data sets. The default for k is 5"
   ]
  },
  {
   "cell_type": "code",
   "execution_count": 11,
   "metadata": {},
   "outputs": [
    {
     "data": {
      "text/plain": [
       "KNeighborsClassifier(algorithm='auto', leaf_size=30, metric='minkowski',\n",
       "                     metric_params=None, n_jobs=None, n_neighbors=5, p=2,\n",
       "                     weights='uniform')"
      ]
     },
     "execution_count": 11,
     "metadata": {},
     "output_type": "execute_result"
    }
   ],
   "source": [
    "knn.fit(X=X_train, y=y_train)"
   ]
  },
  {
   "cell_type": "markdown",
   "metadata": {},
   "source": [
    "**Objects for predicted and expected values are created**\n",
    "\n",
    "Using the estimator's predict method with `X_test` as an argument returns an array with the predicted class of each test image\n",
    "\n",
    "`y_test` will be simply renamed for legibility"
   ]
  },
  {
   "cell_type": "code",
   "execution_count": 12,
   "metadata": {},
   "outputs": [],
   "source": [
    "predicted = knn.predict(X=X_test)\n",
    "expected = y_test"
   ]
  },
  {
   "cell_type": "markdown",
   "metadata": {},
   "source": [
    "## Visualize results\n",
    "\n",
    "We can now look at the lists of predicted values and expected values then create a list of pairs to compare the resluts"
   ]
  },
  {
   "cell_type": "code",
   "execution_count": 13,
   "metadata": {},
   "outputs": [
    {
     "data": {
      "text/plain": [
       "array([8, 2, 1, 5, 1, 2, 4, 2, 0, 8, 6, 7, 7, 0, 6, 0, 1, 1, 2, 2])"
      ]
     },
     "execution_count": 13,
     "metadata": {},
     "output_type": "execute_result"
    }
   ],
   "source": [
    "# show first 20 predictions\n",
    "predicted[:20]"
   ]
  },
  {
   "cell_type": "code",
   "execution_count": 14,
   "metadata": {},
   "outputs": [
    {
     "data": {
      "text/plain": [
       "array([8, 2, 1, 5, 1, 2, 4, 2, 0, 8, 6, 7, 7, 0, 6, 0, 1, 1, 2, 2])"
      ]
     },
     "execution_count": 14,
     "metadata": {},
     "output_type": "execute_result"
    }
   ],
   "source": [
    "# show first 20 expectations\n",
    "expected[:20]"
   ]
  },
  {
   "cell_type": "markdown",
   "metadata": {},
   "source": [
    "Normally, `List comprehension` and `zip` would be used to create tuples containing the corresponding elements in *predicted* and *expected*. However, the following will create a list of lists with the same corresponding elements. This is so the elements in the list can be easily called when building a comparison visual. "
   ]
  },
  {
   "cell_type": "code",
   "execution_count": 15,
   "metadata": {},
   "outputs": [
    {
     "data": {
      "text/plain": [
       "[[3, 8], [8, 6], [5, 9], [7, 2], [9, 5], [6, 5], [5, 9], [4, 0]]"
      ]
     },
     "execution_count": 15,
     "metadata": {},
     "output_type": "execute_result"
    }
   ],
   "source": [
    "# use list comprehension and zip to build list of wrong predictions\n",
    "wrong = [[p,e] for [p,e] in zip(predicted,expected) if p != e]\n",
    "wrong"
   ]
  },
  {
   "cell_type": "code",
   "execution_count": 16,
   "metadata": {},
   "outputs": [
    {
     "data": {
      "image/png": "[encoded data removed]",
      "text/plain": [
       "<Figure size 504x360 with 8 Axes>"
      ]
     },
     "metadata": {
      "needs_background": "light"
     },
     "output_type": "display_data"
    }
   ],
   "source": [
    "ex = []\n",
    "pred = []\n",
    "# separate the fist 4 values inside of the list of wrong values for visualizatoin\n",
    "if len(wrong)>3:\n",
    "    n = 4\n",
    "else:\n",
    "    n= len(wrong)\n",
    "for i in range(n):\n",
    "    p = wrong[i][0]\n",
    "    e = wrong[i][1]\n",
    "    pred.append((digits.images[p],p))\n",
    "    ex.append((digits.images[e],e))\n",
    "# build image for comparison\n",
    "_,axes = plt.subplots(2, n,figsize=(7, 5))\n",
    "for ax, (image, label) in zip(axes[0, :], pred[:n]):\n",
    "    ax.imshow(image, cmap=plt.cm.gray_r, interpolation='nearest')\n",
    "    ax.set_title('PREDICTED: %i' % label)\n",
    "    ax.set_axis_off()\n",
    "for ax, (image, label) in zip(axes[1, :], ex[:n]):\n",
    "    ax.imshow(image, cmap=plt.cm.gray_r, interpolation='nearest')\n",
    "    ax.set_title('EXPECTED: %i' % label)\n",
    "    ax.set_axis_off()"
   ]
  },
  {
   "cell_type": "markdown",
   "metadata": {},
   "source": [
    "The image above shows the first four values the model *predicted* incorrectly and the target value that was expected. The estimator used in this example incorrectly predicted six targets,yet, still achieved an impressive accuracy of 98.33%"
   ]
  },
  {
   "cell_type": "code",
   "execution_count": 17,
   "metadata": {},
   "outputs": [
    {
     "name": "stdout",
     "output_type": "stream",
     "text": [
      "97.78%\n"
     ]
    }
   ],
   "source": [
    "print(f'{knn.score(X_test,y_test):.2%}')"
   ]
  },
  {
   "cell_type": "markdown",
   "metadata": {},
   "source": [
    "The accuracy of classification estimators can also be checked by using a **confusion matrix**. This visual will show the correct and incorrect predicted values (sometimes referred to *hits* and *missses*) for a given class. The `y_true` keyword argument specifies the test sample's actual classe. The `y_pred` specifies the predicted digits for those images. The incorrect predictions are shown on the diagonal from top-left to bottom-right. This is known as **principle diagonal**. The non-zero values that are not in the **principle diagonal** indicate incorrect predictions."
   ]
  },
  {
   "cell_type": "code",
   "execution_count": 18,
   "metadata": {},
   "outputs": [
    {
     "data": {
      "text/plain": [
       "array([[40,  0,  0,  0,  1,  0,  0,  0,  0,  0],\n",
       "       [ 0, 33,  0,  0,  0,  0,  0,  0,  0,  0],\n",
       "       [ 0,  0, 37,  0,  0,  0,  0,  1,  0,  0],\n",
       "       [ 0,  0,  0, 41,  0,  0,  0,  0,  0,  0],\n",
       "       [ 0,  0,  0,  0, 41,  0,  0,  0,  0,  0],\n",
       "       [ 0,  0,  0,  0,  0, 32,  1,  0,  0,  1],\n",
       "       [ 0,  0,  0,  0,  0,  0, 30,  0,  1,  0],\n",
       "       [ 0,  0,  0,  0,  0,  0,  0, 32,  0,  0],\n",
       "       [ 0,  0,  0,  1,  0,  0,  0,  0, 37,  0],\n",
       "       [ 0,  0,  0,  0,  0,  2,  0,  0,  0, 29]])"
      ]
     },
     "execution_count": 18,
     "metadata": {},
     "output_type": "execute_result"
    }
   ],
   "source": [
    "from sklearn.metrics import confusion_matrix\n",
    "confusion = confusion_matrix(y_true = expected, y_pred = predicted)\n",
    "confusion"
   ]
  },
  {
   "cell_type": "markdown",
   "metadata": {},
   "source": [
    "The `sklearn.metrics` module also provides the function `classification_report`. This funciton will produce a table of **classification metrics** based on expected and predicted values. \n",
    "\n",
    "* Precision - total number of correct predicitons for a given digit divided by the total number of predictions for that digit \n",
    "\n",
    "* Recall - total number of correct predictions for a given digit divided by the total number of samples that should have been predicted as that digit\n",
    "\n",
    "* f1-score - The average of the *precision* and *recall*\n",
    "\n",
    "* Support - The number of samples with a given expected value. For exapmle: 50 samples were labeled as 4s, and 38 samples were labeled as 5s\n",
    "\n",
    "More information on those metrics is provided.\n",
    "\n",
    "__[More info on classification metrics](http://scikit-learn.org/stable/modules/model_evaluation.html#precision-recall-and-f-measures)__\n",
    "\n",
    "__[More info on averages in report](http://scikit-learn.org/stable/modules/generated/sklearn.metrics.classification_report.html)__"
   ]
  },
  {
   "cell_type": "code",
   "execution_count": 19,
   "metadata": {},
   "outputs": [
    {
     "name": "stdout",
     "output_type": "stream",
     "text": [
      "              precision    recall  f1-score   support\n",
      "\n",
      "           0       1.00      0.98      0.99        41\n",
      "           1       1.00      1.00      1.00        33\n",
      "           2       1.00      0.97      0.99        38\n",
      "           3       0.98      1.00      0.99        41\n",
      "           4       0.98      1.00      0.99        41\n",
      "           5       0.94      0.94      0.94        34\n",
      "           6       0.97      0.97      0.97        31\n",
      "           7       0.97      1.00      0.98        32\n",
      "           8       0.97      0.97      0.97        38\n",
      "           9       0.97      0.94      0.95        31\n",
      "\n",
      "    accuracy                           0.98       360\n",
      "   macro avg       0.98      0.98      0.98       360\n",
      "weighted avg       0.98      0.98      0.98       360\n",
      "\n"
     ]
    }
   ],
   "source": [
    "from sklearn.metrics import classification_report\n",
    "names = [str(d) for d in digits.target_names]\n",
    "print(classification_report(expected, predicted, target_names=names))"
   ]
  },
  {
   "cell_type": "markdown",
   "metadata": {},
   "source": [
    "A `heatmap` from `seaborn` can help improve a confusion matrix by displaying values as colors, with values of higher magnitude displayed as more intense colors. *Seaborn's* graphing functions work with two-dimensional data. Using *Pandas* `pd.DataFrame` will allow *Seaborn* to automatically label its visualizations using the column names and row indices"
   ]
  },
  {
   "cell_type": "code",
   "execution_count": 20,
   "metadata": {},
   "outputs": [
    {
     "data": {
      "image/png": "[encoded data removed]",
      "text/plain": [
       "<Figure size 432x288 with 2 Axes>"
      ]
     },
     "metadata": {
      "needs_background": "light"
     },
     "output_type": "display_data"
    }
   ],
   "source": [
    "import pandas as pd\n",
    "import seaborn as sns\n",
    "confusion_df = pd.DataFrame(confusion,\n",
    "                            index=range(10),\n",
    "                            columns=range(10))\n",
    "axes = sns.heatmap(confusion_df,annot=True,\n",
    "                  cmap = 'inferno')"
   ]
  },
  {
   "cell_type": "markdown",
   "metadata": {},
   "source": [
    "## KFold Class\n",
    "\n",
    "**K-fold Cross-Validation** enables the use of all of the data for *both* training *and* testing, to give a better sense of how well the model will make predictions for new data by repeatedly trainig and tseting the model with different portions of the dataset. **KFold** splits the dataset into *k* equal-sized *folds* (not related to KNN). The model is then repeatedly trained with *k*-1 folds and tested with the remaining *folds* of the model.\n",
    "\n",
    "For example using **10 Folds**:\n",
    "* 1. Train model with folds 1-9, then test with fold 10\n",
    "* 2. Train model with folds 1-8 and 10, then test with fold 9\n",
    "* 3. Train model with folds 1-7 and 9-10, then test with fold 8\n",
    "* 4. cycle continues until each fold is used\n",
    "\n",
    "`Scikit-learn` provides `KFold` class and `cross_val_score` to help with training and test cycles.\n",
    "\n",
    "* `n_splits = 10` specifies number of Folds\n",
    "\n",
    "* `shuffle = True` causes the KFold object to randomize the data by shuffling it before splitting it into Folds\n",
    "\n",
    "* `estimator=knn` specifies the desired estimator\n",
    "\n",
    "* `X=digits.data` specifies the samples to use for training and testing\n",
    "\n",
    "* `y=digits.target` specifies the target predictions for the samples\n",
    "\n",
    "* `cv=kfold` specifies the cross-validation generator that defines how to split the samples and targets for training and testing"
   ]
  },
  {
   "cell_type": "code",
   "execution_count": 21,
   "metadata": {},
   "outputs": [],
   "source": [
    "from sklearn.model_selection import KFold\n",
    "kfold = KFold(n_splits = 10, shuffle = True)"
   ]
  },
  {
   "cell_type": "code",
   "execution_count": 22,
   "metadata": {},
   "outputs": [
    {
     "data": {
      "text/plain": [
       "array([0.98333333, 0.99444444, 1.        , 0.99444444, 0.98888889,\n",
       "       0.97777778, 0.97777778, 0.98324022, 0.97765363, 0.98882682])"
      ]
     },
     "execution_count": 22,
     "metadata": {},
     "output_type": "execute_result"
    }
   ],
   "source": [
    "from sklearn.model_selection import cross_val_score\n",
    "scores = cross_val_score(estimator=knn, X=digits.data,\n",
    "                        y=digits.target, cv=kfold)\n",
    "scores"
   ]
  },
  {
   "cell_type": "markdown",
   "metadata": {},
   "source": [
    "The highest accuracy here was 99%"
   ]
  },
  {
   "cell_type": "code",
   "execution_count": 23,
   "metadata": {},
   "outputs": [
    {
     "name": "stdout",
     "output_type": "stream",
     "text": [
      "Mean accuracy: 98.66%\n"
     ]
    }
   ],
   "source": [
    "print(f'Mean accuracy: {scores.mean():.2%}')"
   ]
  },
  {
   "cell_type": "code",
   "execution_count": 24,
   "metadata": {},
   "outputs": [
    {
     "name": "stdout",
     "output_type": "stream",
     "text": [
      "Accuracy standard deviation: 0.76%\n"
     ]
    }
   ],
   "source": [
    "print(f'Accuracy standard deviation: {scores.std():.2%}')"
   ]
  },
  {
   "cell_type": "markdown",
   "metadata": {},
   "source": [
    "On average the model was even better than when the model was split 80/20 for training and testing"
   ]
  },
  {
   "cell_type": "markdown",
   "metadata": {},
   "source": [
    "## Finding Best Model\n",
    "\n",
    "It can be very difficult to knwo in advance which model is the best to use for machine-learning. Estimators can be compared to determine which is most accuarate in predictions. There are cost and benifits to each of them. More information can be found below. A loop can be used to execute several models. As the loop passes through items in the estimators dictionary, each key-value pair performs the following:\n",
    "\n",
    "* Unpack the key into `estimator_name` and value into `estimator_object`\n",
    "\n",
    "* Creates a KFold object that shuffles the data and produces 10 folds. The keyword argument `random_state` is important because it ensures that each estimator works with identical folds\n",
    "\n",
    "* Evaluates the current `estimator_object` using `cross_val_score`\n",
    "\n",
    "* Prints the estimator's name, mean and standard deviation of the accuracy scores' computed for each of the 10 folds\n",
    "\n",
    "__[More info on estimators](http://scikit-learn.org/stable/tutorial/machine_learning_map/index.html)__"
   ]
  },
  {
   "cell_type": "code",
   "execution_count": 25,
   "metadata": {},
   "outputs": [],
   "source": [
    "from sklearn.svm import SVC\n",
    "from sklearn.naive_bayes import GaussianNB\n",
    "# create estimators\n",
    "estimators = {\n",
    "     'KNeighborsClassifier': knn, \n",
    "     'SVC': SVC(gamma='scale'),\n",
    "     'GaussianNB': GaussianNB()}"
   ]
  },
  {
   "cell_type": "code",
   "execution_count": 26,
   "metadata": {},
   "outputs": [
    {
     "name": "stdout",
     "output_type": "stream",
     "text": [
      "KNeighborsClassifier: mean accuracy=98.72%; standard deviation=0.75%\n",
      "                 SVC: mean accuracy=98.72%; standard deviation=0.79%\n",
      "          GaussianNB: mean accuracy=84.48%; standard deviation=3.47%\n"
     ]
    }
   ],
   "source": [
    "for estimator_name, estimator_object in estimators.items():\n",
    "    kfold = KFold(n_splits=10, random_state=11, shuffle=True)\n",
    "    scores = cross_val_score(estimator=estimator_object, \n",
    "    X=digits.data, y=digits.target, cv=kfold)\n",
    "    print(f'{estimator_name:>20}: ' + \n",
    "        f'mean accuracy={scores.mean():.2%}; ' +\n",
    "        f'standard deviation={scores.std():.2%}')"
   ]
  },
  {
   "cell_type": "markdown",
   "metadata": {},
   "source": [
    "Displaying the results of three models allows easy inspection of accuracy. In this case, **SVC** may be a better model to use."
   ]
  },
  {
   "cell_type": "code",
   "execution_count": null,
   "metadata": {},
   "outputs": [],
   "source": []
  }
 ],
 "metadata": {
  "kernelspec": {
   "display_name": "Python 3",
   "language": "python",
   "name": "python3"
  },
  "language_info": {
   "codemirror_mode": {
    "name": "ipython",
    "version": 3
   },
   "file_extension": ".py",
   "mimetype": "text/x-python",
   "name": "python",
   "nbconvert_exporter": "python",
   "pygments_lexer": "ipython3",
   "version": "3.7.3"
  }
 },
 "nbformat": 4,
 "nbformat_minor": 2
}
